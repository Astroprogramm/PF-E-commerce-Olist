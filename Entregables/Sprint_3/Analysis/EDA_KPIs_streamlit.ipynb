{
  "nbformat": 4,
  "nbformat_minor": 0,
  "metadata": {
    "colab": {
      "provenance": []
    },
    "kernelspec": {
      "name": "python3",
      "display_name": "Python 3"
    },
    "language_info": {
      "name": "python"
    }
  },
  "cells": [
    {
      "cell_type": "markdown",
      "source": [
        "Instalación"
      ],
      "metadata": {
        "id": "fBm0KWbEgpes"
      }
    },
    {
      "cell_type": "code",
      "execution_count": 75,
      "metadata": {
        "id": "GlPIUq-XgV6P"
      },
      "outputs": [],
      "source": [
        "!pip install -q streamlit\n",
        "!npm install localtunnel"
      ]
    },
    {
      "cell_type": "markdown",
      "source": [
        "Se crea el archivo con las lineas del EDA combinadas para mostrarlas en streamlit"
      ],
      "metadata": {
        "id": "aI3TtVpUhXWi"
      }
    },
    {
      "cell_type": "code",
      "source": [
        "%%writefile app.py\n",
        "import streamlit as st\n",
        "import pandas as pd\n",
        "\n",
        "df_customers = pd.read_csv(\"https://raw.githubusercontent.com/Astroprogramm/PF-E-commerce-Olist/master/Datasets/olist_customers_dataset.csv\")\n",
        "df_order_items = pd.read_csv(\"https://raw.githubusercontent.com/Astroprogramm/PF-E-commerce-Olist/master/Datasets/olist_order_items_dataset.csv\")\n",
        "df_order_payments = pd.read_csv(\"https://raw.githubusercontent.com/Astroprogramm/PF-E-commerce-Olist/master/Datasets/olist_order_payments_dataset.csv\")\n",
        "df_order_reviews = pd.read_csv(\"https://raw.githubusercontent.com/Astroprogramm/PF-E-commerce-Olist/master/Datasets/olist_order_reviews_dataset.csv\")\n",
        "df_olist_orders = pd.read_csv(\"https://raw.githubusercontent.com/Astroprogramm/PF-E-commerce-Olist/master/Datasets/olist_orders_dataset.csv\")\n",
        "df_olist_products = pd.read_csv(\"https://raw.githubusercontent.com/Astroprogramm/PF-E-commerce-Olist/master/Datasets/olist_products_dataset.csv\")\n",
        "\n",
        "st.title('Dashboard KPIs olist')\n",
        "\n",
        "# PRIMER KPI\n",
        "st.header('1er KPI: Porcentaje de aumento o disminución en las ventas mensuales y trimestrales')\n",
        "st.subheader('Variación mensual anual')\n",
        "\n",
        "df_order_payments_data = df_order_payments[['order_id', 'payment_value']] \n",
        "df_olist_orders_data = df_olist_orders[['order_id', 'order_purchase_timestamp']]\n",
        "inner_join_df= pd.merge(df_order_payments_data, df_olist_orders_data, on='order_id', how='inner')\n",
        "inner_join_df['order_purchase_timestamp'] = pd.to_datetime(inner_join_df.order_purchase_timestamp, format='%Y-%m-%d')\n",
        "\n",
        "option = st.selectbox(\n",
        "    'Seleccione el año de la Variación mensual: ',\n",
        "    (inner_join_df.order_purchase_timestamp.dt.year.unique()))\n",
        "st.write('Seleccionó:', option)\n",
        "\n",
        "inner_join_df = inner_join_df[inner_join_df['order_purchase_timestamp'].dt.year == int(option)]\n",
        "st.bar_chart(inner_join_df.groupby(inner_join_df.order_purchase_timestamp.dt.month)['payment_value'].mean())\n",
        "\n",
        "st.subheader('Variación trimestral anual')\n",
        "df_order_payments_data = df_order_payments[['order_id', 'payment_value']] \n",
        "df_olist_orders_data = df_olist_orders[['order_id', 'order_purchase_timestamp']]\n",
        "\n",
        "inner_join_df= pd.merge(df_order_payments_data, df_olist_orders_data, on='order_id', how='inner')\n",
        "inner_join_df['order_purchase_timestamp'] = pd.to_datetime(inner_join_df.order_purchase_timestamp, format='%Y-%m-%d')\n",
        "inner_join_df.groupby(inner_join_df.order_purchase_timestamp.dt.month)['payment_value'].mean()\n",
        "\n",
        "option_trimestral = st.selectbox(\n",
        "    'Seleccione el año de la variación trimestral: ',\n",
        "    inner_join_df.order_purchase_timestamp.dt.year.unique())\n",
        "st.write('Seleccionó:', option_trimestral)\n",
        "\n",
        "inner_join_df = inner_join_df[inner_join_df['order_purchase_timestamp'].dt.year == int(option_trimestral)]\n",
        "\n",
        "orders_by_month = len(inner_join_df)\n",
        "orders_by_first_trimester = inner_join_df[inner_join_df.order_purchase_timestamp.dt.month <= 3 ]\n",
        "orders_by_second_trimester = inner_join_df[(3 < inner_join_df.order_purchase_timestamp.dt.month) & (inner_join_df.order_purchase_timestamp.dt.month<=6)]\n",
        "orders_by_third_trimester = inner_join_df[(6 < inner_join_df.order_purchase_timestamp.dt.month) & (inner_join_df.order_purchase_timestamp.dt.month<=9)]\n",
        "orders_by_fourth_trimester = inner_join_df[(9 < inner_join_df.order_purchase_timestamp.dt.month) & (inner_join_df.order_purchase_timestamp.dt.month<=12)]\n",
        "\n",
        "orders_by_first_trimester = inner_join_df.groupby(orders_by_first_trimester.order_purchase_timestamp.dt.month).nunique().mean()['order_purchase_timestamp']\n",
        "orders_by_second_trimester = inner_join_df.groupby(orders_by_second_trimester.order_purchase_timestamp.dt.month).nunique().mean()['order_purchase_timestamp']\n",
        "orders_by_third_trimester = inner_join_df.groupby(orders_by_third_trimester.order_purchase_timestamp.dt.month).nunique().mean()['order_purchase_timestamp']\n",
        "orders_by_fourth_trimester = inner_join_df.groupby(orders_by_fourth_trimester.order_purchase_timestamp.dt.month).nunique().mean()['order_purchase_timestamp']\n",
        "\n",
        "st.metric(label=\"Primer trimestre\", value=((orders_by_first_trimester/orders_by_month)*100))\n",
        "st.metric(label=\"Segundo trimestre\", value=((orders_by_second_trimester/orders_by_month)*100))\n",
        "st.metric(label=\"Segundo trimestre\", value=((orders_by_third_trimester/orders_by_month)*100))\n",
        "st.metric(label=\"Segundo trimestre\", value=((orders_by_fourth_trimester/orders_by_month)*100))\n",
        "\n",
        "# SEGUNDO KPI\n",
        "st.header('2do KPI: Estados de Brazil en los que más se vende y menos se vende')\n",
        "inner_join_df= pd.merge(df_customers, df_olist_orders, on='customer_id', how='inner')\n",
        "orders_by_city = inner_join_df.groupby(inner_join_df.customer_state).nunique()\n",
        "st.subheader('Estados con menos ventas')\n",
        "\n",
        "estados = st.slider('Cuantos estados desea ver?', 3, 10, 3)\n",
        "st.write(\"Visualizando \", estados, \" estados.\")\n",
        "\n",
        "st.subheader('Estados con menos ventas')\n",
        "listado_estados_menores = (orders_by_city.sort_values(by=['order_delivered_customer_date'])['order_delivered_customer_date'].head(estados))\n",
        "st.table(listado_estados_menores)\n",
        "\n",
        "st.subheader('Estados con mayores ventas')\n",
        "listado_estados_mayores = (orders_by_city.sort_values(by=['order_delivered_customer_date'], ascending=False)['order_delivered_customer_date'].head(estados))\n",
        "st.table(listado_estados_mayores)\n",
        "\n",
        "# TERCER KPI\n",
        "st.header('3er KPI: Frecuencia de compra mensual y trimestral.')\n",
        "st.subheader('Porcentaje de frecuencia de compra mensual')\n",
        "df_orders = df_olist_orders[['order_id']]\n",
        "df_customer = df_olist_orders[['customer_id', 'order_purchase_timestamp']]\n",
        "df_customer['order_purchase_timestamp'] = pd.to_datetime(df_customer.order_purchase_timestamp, format='%Y-%m-%d')\n",
        "orders_by_month = len(df_orders)\n",
        "\n",
        "option = st.selectbox(\n",
        "    'Seleccione el año de la variación mensual: ',\n",
        "    (df_customer.order_purchase_timestamp.dt.year.unique()))\n",
        "st.write('Seleccionó:', option)\n",
        "\n",
        "df_customer = df_customer[df_customer['order_purchase_timestamp'].dt.year == int(option)]\n",
        "\n",
        "customers_by_month = df_customer.groupby(df_customer.order_purchase_timestamp.dt.month).nunique()\n",
        "st.table((customers_by_month/orders_by_month)*100)\n",
        "\n",
        "st.subheader('Porcentaje de frecuencia de compra trimestral')\n",
        "df_customer = df_olist_orders[['customer_id', 'order_purchase_timestamp']]\n",
        "df_customer['order_purchase_timestamp'] = pd.to_datetime(df_customer.order_purchase_timestamp, format='%Y-%m-%d')\n",
        "\n",
        "\n",
        "option = st.selectbox(\n",
        "    'Seleccione el año para calcular la variación trimestral: ',\n",
        "    (df_customer.order_purchase_timestamp.dt.year.unique()))\n",
        "st.write('Seleccionó:', option)\n",
        "\n",
        "df_customer = df_customer[df_customer['order_purchase_timestamp'].dt.year == int(option)]\n",
        "\n",
        "orders_by_month = len(df_customer)\n",
        "customers_by_first_trimester = df_customer[df_customer.order_purchase_timestamp.dt.month <= 3 ]\n",
        "customers_by_second_trimester = df_customer[(3 < df_customer.order_purchase_timestamp.dt.month) & (df_customer.order_purchase_timestamp.dt.month<=6)]\n",
        "customers_by_third_trimester = df_customer[(6 < df_customer.order_purchase_timestamp.dt.month) & (df_customer.order_purchase_timestamp.dt.month<=9)]\n",
        "customers_by_fourth_trimester = df_customer[(9 < df_customer.order_purchase_timestamp.dt.month) & (df_customer.order_purchase_timestamp.dt.month<=12)]\n",
        "\n",
        "customers_by_first_trimester = df_customer.groupby(customers_by_first_trimester.order_purchase_timestamp.dt.month).nunique().mean()['order_purchase_timestamp']\n",
        "customers_by_second_trimester = df_customer.groupby(customers_by_second_trimester.order_purchase_timestamp.dt.month).nunique().mean()['order_purchase_timestamp']\n",
        "customers_by_third_trimester = df_customer.groupby(customers_by_third_trimester.order_purchase_timestamp.dt.month).nunique().mean()['order_purchase_timestamp']\n",
        "customers_by_fourth_trimester = df_customer.groupby(customers_by_fourth_trimester.order_purchase_timestamp.dt.month).nunique().mean()['order_purchase_timestamp']\n",
        "\n",
        "st.metric(label=\"Primer trimestre\", value=((customers_by_first_trimester/orders_by_month)*100))\n",
        "st.metric(label=\"Segundo trimestre\", value=((customers_by_second_trimester/orders_by_month)*100))\n",
        "st.metric(label=\"Segundo trimestre\", value=((customers_by_third_trimester/orders_by_month)*100))\n",
        "st.metric(label=\"Segundo trimestre\", value=((customers_by_fourth_trimester/orders_by_month)*100))\n",
        "\n",
        "st.caption('Se compra más productos en el mes de agosto y en el segundo trimestre del año')\n",
        "\n",
        "# CUARTO KPI\n",
        "st.header('4to KPI: Net promoter score (NPS). Objetivo: Aumentar NPS 8%. Puntuación neta positivas')\n",
        "\n",
        "calificacion = st.slider(\n",
        "    'Seleccione un rango de calificaciones',\n",
        "    0.0, 5.0, (4.0, 5.0))\n",
        "st.write('Seleccionó:', calificacion[0], calificacion[1])\n",
        "\n",
        "st.subheader('Puntuación positiva')\n",
        "inner_join_df= pd.merge(df_order_reviews, df_order_items, on='order_id', how='inner')\n",
        "sellers_positive_reviews = inner_join_df.groupby(['seller_id'])['review_score'].mean().to_frame()\n",
        "sellers_positive_reviews = sellers_positive_reviews[(sellers_positive_reviews['review_score'] >= calificacion[0]) & (sellers_positive_reviews['review_score'] <= calificacion[1])]\n",
        "st.table(sellers_positive_reviews.head(20))\n",
        "\n",
        "# QUINTO KPI\n",
        "st.header('5to KPI: Ticket promedio mensual y trimestral. Objetivo aumentar el ticket promedio mensual un 10%')\n",
        "inner_join_df= pd.merge(df_olist_products, df_order_items, on='product_id', how='inner')\n",
        "inner_join_df = inner_join_df.groupby(['product_category_name'])['price'].mean()\n",
        "\n",
        "categorias = st.slider('Cuantos categorias desea ver?', 3, 10, 3)\n",
        "st.write(\"Visualizando \", categorias, \" categorias.\")\n",
        "\n",
        "st.subheader('Productos con mayor precio por categoría')\n",
        "st.table(inner_join_df.sort_values(ascending=False).head(categorias))\n",
        "st.subheader('Productos con menor precio por categoría')\n",
        "st.table(inner_join_df.sort_values().head(categorias))"
      ],
      "metadata": {
        "id": "g4eNpJRVhV_O",
        "colab": {
          "base_uri": "https://localhost:8080/"
        },
        "outputId": "a71ad258-32fd-4d04-95cd-cf7a0fe67da6"
      },
      "execution_count": 76,
      "outputs": [
        {
          "output_type": "stream",
          "name": "stdout",
          "text": [
            "Overwriting app.py\n"
          ]
        }
      ]
    },
    {
      "cell_type": "markdown",
      "source": [
        "Ejecutar streamlit"
      ],
      "metadata": {
        "id": "oSYqW0ovg6J2"
      }
    },
    {
      "cell_type": "code",
      "source": [
        "!streamlit run /content/app.py &>/content/logs.txt &"
      ],
      "metadata": {
        "id": "lpumeR1hg49Z"
      },
      "execution_count": 77,
      "outputs": []
    },
    {
      "cell_type": "markdown",
      "source": [
        "Exponer el puerto"
      ],
      "metadata": {
        "id": "ujMPJem1hA7R"
      }
    },
    {
      "cell_type": "code",
      "source": [
        "!npx localtunnel --port 8501"
      ],
      "metadata": {
        "id": "LL6g4akAhAHz",
        "colab": {
          "base_uri": "https://localhost:8080/"
        },
        "outputId": "d7943b7b-1682-4a5c-83d6-b0cd0174c769"
      },
      "execution_count": 78,
      "outputs": [
        {
          "output_type": "stream",
          "name": "stdout",
          "text": [
            "\u001b[K\u001b[?25hnpx: installed 22 in 2.954s\n",
            "your url is: https://mighty-showers-drum-35-226-141-6.loca.lt\n",
            "^C\n"
          ]
        }
      ]
    }
  ]
}