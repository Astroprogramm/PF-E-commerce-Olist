{
  "nbformat": 4,
  "nbformat_minor": 0,
  "metadata": {
    "colab": {
      "provenance": []
    },
    "kernelspec": {
      "name": "python3",
      "display_name": "Python 3"
    },
    "language_info": {
      "name": "python"
    }
  },
  "cells": [
    {
      "cell_type": "code",
      "source": [
        "import pandas as pd\n",
        "\n",
        "df_customers = pd.read_csv(\"https://raw.githubusercontent.com/Astroprogramm/PF-E-commerce-Olist/master/Datasets/olist_customers_dataset.csv\")\n",
        "df_order_items = pd.read_csv(\"https://raw.githubusercontent.com/Astroprogramm/PF-E-commerce-Olist/master/Datasets/olist_order_items_dataset.csv\")\n",
        "df_order_payments = pd.read_csv(\"https://raw.githubusercontent.com/Astroprogramm/PF-E-commerce-Olist/master/Datasets/olist_order_payments_dataset.csv\")\n",
        "df_order_reviews = pd.read_csv(\"https://raw.githubusercontent.com/Astroprogramm/PF-E-commerce-Olist/master/Datasets/olist_order_reviews_dataset.csv\")\n",
        "df_olist_orders = pd.read_csv(\"https://raw.githubusercontent.com/Astroprogramm/PF-E-commerce-Olist/master/Datasets/olist_orders_dataset.csv\")\n",
        "df_olist_products = pd.read_csv(\"https://raw.githubusercontent.com/Astroprogramm/PF-E-commerce-Olist/master/Datasets/olist_products_dataset.csv\")"
      ],
      "metadata": {
        "id": "nfPez63WbTaz"
      },
      "execution_count": 68,
      "outputs": []
    },
    {
      "cell_type": "markdown",
      "source": [
        "- 1er KPI: Porcentaje de aumento o disminución en las ventas mensuales y trimestrales\n",
        "\n",
        "  Variación mensual"
      ],
      "metadata": {
        "id": "394GLstzqsta"
      }
    },
    {
      "cell_type": "code",
      "source": [
        "df_order_payments_data = df_order_payments[['order_id', 'payment_value']] \n",
        "df_olist_orders_data = df_olist_orders[['order_id', 'order_purchase_timestamp']]\n",
        "inner_join_df= pd.merge(df_order_payments_data, df_olist_orders_data, on='order_id', how='inner')\n",
        "inner_join_df['order_purchase_timestamp'] = pd.to_datetime(inner_join_df.order_purchase_timestamp, format='%Y-%m-%d')\n",
        "inner_join_df.groupby(inner_join_df.order_purchase_timestamp.dt.month)['payment_value'].mean()"
      ],
      "metadata": {
        "colab": {
          "base_uri": "https://localhost:8080/"
        },
        "id": "Uid8xONVq_c2",
        "outputId": "6d36de97-cf7f-4bda-8bf5-725fdfaeb1e8"
      },
      "execution_count": 69,
      "outputs": [
        {
          "output_type": "execute_result",
          "data": {
            "text/plain": [
              "order_purchase_timestamp\n",
              "1     148.994677\n",
              "2     145.323755\n",
              "3     155.523792\n",
              "4     161.408334\n",
              "5     157.676773\n",
              "6     155.774417\n",
              "7     153.263458\n",
              "8     150.855409\n",
              "9     161.511407\n",
              "10    161.228972\n",
              "11    151.962711\n",
              "12    148.985940\n",
              "Name: payment_value, dtype: float64"
            ]
          },
          "metadata": {},
          "execution_count": 69
        }
      ]
    },
    {
      "cell_type": "markdown",
      "source": [
        "  Variación trimestral"
      ],
      "metadata": {
        "id": "A0pzYabmvava"
      }
    },
    {
      "cell_type": "code",
      "source": [
        "df_order_payments_data = df_order_payments[['order_id', 'payment_value']] \n",
        "df_olist_orders_data = df_olist_orders[['order_id', 'order_purchase_timestamp']]\n",
        "inner_join_df= pd.merge(df_order_payments_data, df_olist_orders_data, on='order_id', how='inner')\n",
        "inner_join_df['order_purchase_timestamp'] = pd.to_datetime(inner_join_df.order_purchase_timestamp, format='%Y-%m-%d')\n",
        "inner_join_df.groupby(inner_join_df.order_purchase_timestamp.dt.month)['payment_value'].mean()\n",
        "\n",
        "orders_by_month = len(inner_join_df)\n",
        "orders_by_first_trimester = inner_join_df[inner_join_df.order_purchase_timestamp.dt.month <= 3 ]\n",
        "orders_by_second_trimester = inner_join_df[(3 < inner_join_df.order_purchase_timestamp.dt.month) & (inner_join_df.order_purchase_timestamp.dt.month<=6)]\n",
        "orders_by_third_trimester = inner_join_df[(6 < inner_join_df.order_purchase_timestamp.dt.month) & (inner_join_df.order_purchase_timestamp.dt.month<=9)]\n",
        "orders_by_fourth_trimester = inner_join_df[(9 < inner_join_df.order_purchase_timestamp.dt.month) & (inner_join_df.order_purchase_timestamp.dt.month<=12)]\n",
        "\n",
        "orders_by_first_trimester = inner_join_df.groupby(orders_by_first_trimester.order_purchase_timestamp.dt.month).nunique().mean()['order_purchase_timestamp']\n",
        "orders_by_second_trimester = inner_join_df.groupby(orders_by_second_trimester.order_purchase_timestamp.dt.month).nunique().mean()['order_purchase_timestamp']\n",
        "orders_by_third_trimester = inner_join_df.groupby(orders_by_third_trimester.order_purchase_timestamp.dt.month).nunique().mean()['order_purchase_timestamp']\n",
        "orders_by_fourth_trimester = inner_join_df.groupby(orders_by_fourth_trimester.order_purchase_timestamp.dt.month).nunique().mean()['order_purchase_timestamp']\n",
        "\n",
        "print((orders_by_first_trimester/orders_by_month)*100)\n",
        "print((orders_by_second_trimester/orders_by_month)*100)\n",
        "print((orders_by_third_trimester/orders_by_month)*100)\n",
        "print((orders_by_fourth_trimester/orders_by_month)*100)"
      ],
      "metadata": {
        "colab": {
          "base_uri": "https://localhost:8080/"
        },
        "id": "jer1wpRVvaBB",
        "outputId": "9ddcaa4e-76c6-4891-e83e-e1c73c20b181"
      },
      "execution_count": 70,
      "outputs": [
        {
          "output_type": "stream",
          "name": "stdout",
          "text": [
            "8.440662521096842\n",
            "9.36507325337389\n",
            "8.123969222673571\n",
            "5.795455274692131\n"
          ]
        }
      ]
    },
    {
      "cell_type": "markdown",
      "source": [
        "- 2do KPI: Estados de Brazil en los que más se vende y menos se vende"
      ],
      "metadata": {
        "id": "NvxZQwaNfLWr"
      }
    },
    {
      "cell_type": "code",
      "source": [
        "inner_join_df= pd.merge(df_customers, df_olist_orders, on='customer_id', how='inner')\n",
        "orders_by_city = inner_join_df.groupby(inner_join_df.customer_state).nunique()\n",
        "print(orders_by_city.sort_values(by=['order_delivered_customer_date'])['order_delivered_customer_date'].head(3))\n",
        "print(orders_by_city.sort_values(by=['order_delivered_customer_date'], ascending=False)['order_delivered_customer_date'].head(3))"
      ],
      "metadata": {
        "colab": {
          "base_uri": "https://localhost:8080/"
        },
        "id": "tRv2ptbQfK5n",
        "outputId": "a054ecab-fbf8-4d8f-aec7-d6f978e62d9f"
      },
      "execution_count": 71,
      "outputs": [
        {
          "output_type": "stream",
          "name": "stdout",
          "text": [
            "customer_state\n",
            "RR    41\n",
            "AP    67\n",
            "AC    80\n",
            "Name: order_delivered_customer_date, dtype: int64\n",
            "customer_state\n",
            "SP    40325\n",
            "RJ    12334\n",
            "MG    11340\n",
            "Name: order_delivered_customer_date, dtype: int64\n"
          ]
        }
      ]
    },
    {
      "cell_type": "markdown",
      "source": [
        "Estados en los que menos se vende:\n",
        "- Roraima\n",
        "- Amapá\n",
        "- Acre\n",
        "\n",
        "\n",
        "Estados en los que más se vende:\n",
        "- Säo Paulo\n",
        "- Río de Janeiro\n",
        "- Minas Gerais"
      ],
      "metadata": {
        "id": "QGg59bKDqJxo"
      }
    },
    {
      "cell_type": "markdown",
      "source": [
        "- 3er KPI: Frecuencia de compra mensual y trimestral.\n",
        "\n",
        "  Porcentaje de frecuencia de compra mensual"
      ],
      "metadata": {
        "id": "qglKgBov-U1H"
      }
    },
    {
      "cell_type": "code",
      "source": [
        "df_orders = df_olist_orders[['order_id']]\n",
        "df_customer = df_olist_orders[['customer_id', 'order_purchase_timestamp']]\n",
        "df_customer['order_purchase_timestamp'] = pd.to_datetime(df_customer.order_purchase_timestamp, format='%Y-%m-%d')\n",
        "orders_by_month = len(df_orders)\n",
        "customers_by_month = df_customer.groupby(df_customer.order_purchase_timestamp.dt.month).nunique()\n",
        "(customers_by_month/orders_by_month)*100"
      ],
      "metadata": {
        "colab": {
          "base_uri": "https://localhost:8080/",
          "height": 561
        },
        "id": "tjKZVsmV-UYk",
        "outputId": "2a226504-0631-4f70-d6f9-58fe9a1148b3"
      },
      "execution_count": 72,
      "outputs": [
        {
          "output_type": "stream",
          "name": "stderr",
          "text": [
            "<ipython-input-72-5b0bd211ea29>:3: SettingWithCopyWarning: \n",
            "A value is trying to be set on a copy of a slice from a DataFrame.\n",
            "Try using .loc[row_indexer,col_indexer] = value instead\n",
            "\n",
            "See the caveats in the documentation: https://pandas.pydata.org/pandas-docs/stable/user_guide/indexing.html#returning-a-view-versus-a-copy\n",
            "  df_customer['order_purchase_timestamp'] = pd.to_datetime(df_customer.order_purchase_timestamp, format='%Y-%m-%d')\n"
          ]
        },
        {
          "output_type": "execute_result",
          "data": {
            "text/plain": [
              "                          customer_id  order_purchase_timestamp\n",
              "order_purchase_timestamp                                       \n",
              "1                            8.114359                  8.071118\n",
              "2                            8.555827                  8.502529\n",
              "3                            9.948613                  9.880230\n",
              "4                            9.395521                  9.349262\n",
              "5                           10.632435                 10.575115\n",
              "6                            9.464909                  9.426695\n",
              "7                           10.376002                 10.313653\n",
              "8                           10.903953                 10.840599\n",
              "9                            4.329200                  4.308082\n",
              "10                           4.986877                  4.970787\n",
              "11                           7.586408                  7.517020\n",
              "12                           5.705896                  5.675727"
            ],
            "text/html": [
              "\n",
              "  <div id=\"df-981f7732-79b1-40ab-890f-9fdfb01c529e\">\n",
              "    <div class=\"colab-df-container\">\n",
              "      <div>\n",
              "<style scoped>\n",
              "    .dataframe tbody tr th:only-of-type {\n",
              "        vertical-align: middle;\n",
              "    }\n",
              "\n",
              "    .dataframe tbody tr th {\n",
              "        vertical-align: top;\n",
              "    }\n",
              "\n",
              "    .dataframe thead th {\n",
              "        text-align: right;\n",
              "    }\n",
              "</style>\n",
              "<table border=\"1\" class=\"dataframe\">\n",
              "  <thead>\n",
              "    <tr style=\"text-align: right;\">\n",
              "      <th></th>\n",
              "      <th>customer_id</th>\n",
              "      <th>order_purchase_timestamp</th>\n",
              "    </tr>\n",
              "    <tr>\n",
              "      <th>order_purchase_timestamp</th>\n",
              "      <th></th>\n",
              "      <th></th>\n",
              "    </tr>\n",
              "  </thead>\n",
              "  <tbody>\n",
              "    <tr>\n",
              "      <th>1</th>\n",
              "      <td>8.114359</td>\n",
              "      <td>8.071118</td>\n",
              "    </tr>\n",
              "    <tr>\n",
              "      <th>2</th>\n",
              "      <td>8.555827</td>\n",
              "      <td>8.502529</td>\n",
              "    </tr>\n",
              "    <tr>\n",
              "      <th>3</th>\n",
              "      <td>9.948613</td>\n",
              "      <td>9.880230</td>\n",
              "    </tr>\n",
              "    <tr>\n",
              "      <th>4</th>\n",
              "      <td>9.395521</td>\n",
              "      <td>9.349262</td>\n",
              "    </tr>\n",
              "    <tr>\n",
              "      <th>5</th>\n",
              "      <td>10.632435</td>\n",
              "      <td>10.575115</td>\n",
              "    </tr>\n",
              "    <tr>\n",
              "      <th>6</th>\n",
              "      <td>9.464909</td>\n",
              "      <td>9.426695</td>\n",
              "    </tr>\n",
              "    <tr>\n",
              "      <th>7</th>\n",
              "      <td>10.376002</td>\n",
              "      <td>10.313653</td>\n",
              "    </tr>\n",
              "    <tr>\n",
              "      <th>8</th>\n",
              "      <td>10.903953</td>\n",
              "      <td>10.840599</td>\n",
              "    </tr>\n",
              "    <tr>\n",
              "      <th>9</th>\n",
              "      <td>4.329200</td>\n",
              "      <td>4.308082</td>\n",
              "    </tr>\n",
              "    <tr>\n",
              "      <th>10</th>\n",
              "      <td>4.986877</td>\n",
              "      <td>4.970787</td>\n",
              "    </tr>\n",
              "    <tr>\n",
              "      <th>11</th>\n",
              "      <td>7.586408</td>\n",
              "      <td>7.517020</td>\n",
              "    </tr>\n",
              "    <tr>\n",
              "      <th>12</th>\n",
              "      <td>5.705896</td>\n",
              "      <td>5.675727</td>\n",
              "    </tr>\n",
              "  </tbody>\n",
              "</table>\n",
              "</div>\n",
              "      <button class=\"colab-df-convert\" onclick=\"convertToInteractive('df-981f7732-79b1-40ab-890f-9fdfb01c529e')\"\n",
              "              title=\"Convert this dataframe to an interactive table.\"\n",
              "              style=\"display:none;\">\n",
              "        \n",
              "  <svg xmlns=\"http://www.w3.org/2000/svg\" height=\"24px\"viewBox=\"0 0 24 24\"\n",
              "       width=\"24px\">\n",
              "    <path d=\"M0 0h24v24H0V0z\" fill=\"none\"/>\n",
              "    <path d=\"M18.56 5.44l.94 2.06.94-2.06 2.06-.94-2.06-.94-.94-2.06-.94 2.06-2.06.94zm-11 1L8.5 8.5l.94-2.06 2.06-.94-2.06-.94L8.5 2.5l-.94 2.06-2.06.94zm10 10l.94 2.06.94-2.06 2.06-.94-2.06-.94-.94-2.06-.94 2.06-2.06.94z\"/><path d=\"M17.41 7.96l-1.37-1.37c-.4-.4-.92-.59-1.43-.59-.52 0-1.04.2-1.43.59L10.3 9.45l-7.72 7.72c-.78.78-.78 2.05 0 2.83L4 21.41c.39.39.9.59 1.41.59.51 0 1.02-.2 1.41-.59l7.78-7.78 2.81-2.81c.8-.78.8-2.07 0-2.86zM5.41 20L4 18.59l7.72-7.72 1.47 1.35L5.41 20z\"/>\n",
              "  </svg>\n",
              "      </button>\n",
              "      \n",
              "  <style>\n",
              "    .colab-df-container {\n",
              "      display:flex;\n",
              "      flex-wrap:wrap;\n",
              "      gap: 12px;\n",
              "    }\n",
              "\n",
              "    .colab-df-convert {\n",
              "      background-color: #E8F0FE;\n",
              "      border: none;\n",
              "      border-radius: 50%;\n",
              "      cursor: pointer;\n",
              "      display: none;\n",
              "      fill: #1967D2;\n",
              "      height: 32px;\n",
              "      padding: 0 0 0 0;\n",
              "      width: 32px;\n",
              "    }\n",
              "\n",
              "    .colab-df-convert:hover {\n",
              "      background-color: #E2EBFA;\n",
              "      box-shadow: 0px 1px 2px rgba(60, 64, 67, 0.3), 0px 1px 3px 1px rgba(60, 64, 67, 0.15);\n",
              "      fill: #174EA6;\n",
              "    }\n",
              "\n",
              "    [theme=dark] .colab-df-convert {\n",
              "      background-color: #3B4455;\n",
              "      fill: #D2E3FC;\n",
              "    }\n",
              "\n",
              "    [theme=dark] .colab-df-convert:hover {\n",
              "      background-color: #434B5C;\n",
              "      box-shadow: 0px 1px 3px 1px rgba(0, 0, 0, 0.15);\n",
              "      filter: drop-shadow(0px 1px 2px rgba(0, 0, 0, 0.3));\n",
              "      fill: #FFFFFF;\n",
              "    }\n",
              "  </style>\n",
              "\n",
              "      <script>\n",
              "        const buttonEl =\n",
              "          document.querySelector('#df-981f7732-79b1-40ab-890f-9fdfb01c529e button.colab-df-convert');\n",
              "        buttonEl.style.display =\n",
              "          google.colab.kernel.accessAllowed ? 'block' : 'none';\n",
              "\n",
              "        async function convertToInteractive(key) {\n",
              "          const element = document.querySelector('#df-981f7732-79b1-40ab-890f-9fdfb01c529e');\n",
              "          const dataTable =\n",
              "            await google.colab.kernel.invokeFunction('convertToInteractive',\n",
              "                                                     [key], {});\n",
              "          if (!dataTable) return;\n",
              "\n",
              "          const docLinkHtml = 'Like what you see? Visit the ' +\n",
              "            '<a target=\"_blank\" href=https://colab.research.google.com/notebooks/data_table.ipynb>data table notebook</a>'\n",
              "            + ' to learn more about interactive tables.';\n",
              "          element.innerHTML = '';\n",
              "          dataTable['output_type'] = 'display_data';\n",
              "          await google.colab.output.renderOutput(dataTable, element);\n",
              "          const docLink = document.createElement('div');\n",
              "          docLink.innerHTML = docLinkHtml;\n",
              "          element.appendChild(docLink);\n",
              "        }\n",
              "      </script>\n",
              "    </div>\n",
              "  </div>\n",
              "  "
            ]
          },
          "metadata": {},
          "execution_count": 72
        }
      ]
    },
    {
      "cell_type": "markdown",
      "source": [
        "  Porcentaje de frecuencia de compra trimestral"
      ],
      "metadata": {
        "id": "ujCJ9r1ND9AQ"
      }
    },
    {
      "cell_type": "code",
      "source": [
        "df_customer = df_olist_orders[['customer_id', 'order_purchase_timestamp']]\n",
        "df_customer['order_purchase_timestamp'] = pd.to_datetime(df_customer.order_purchase_timestamp, format='%Y-%m-%d')\n",
        "orders_by_month = len(df_customer)\n",
        "customers_by_first_trimester = df_customer[df_customer.order_purchase_timestamp.dt.month <= 3 ]\n",
        "customers_by_second_trimester = df_customer[(3 < df_customer.order_purchase_timestamp.dt.month) & (df_customer.order_purchase_timestamp.dt.month<=6)]\n",
        "customers_by_third_trimester = df_customer[(6 < df_customer.order_purchase_timestamp.dt.month) & (df_customer.order_purchase_timestamp.dt.month<=9)]\n",
        "customers_by_fourth_trimester = df_customer[(9 < df_customer.order_purchase_timestamp.dt.month) & (df_customer.order_purchase_timestamp.dt.month<=12)]\n",
        "\n",
        "customers_by_first_trimester = df_customer.groupby(customers_by_first_trimester.order_purchase_timestamp.dt.month).nunique().mean()['order_purchase_timestamp']\n",
        "customers_by_second_trimester = df_customer.groupby(customers_by_second_trimester.order_purchase_timestamp.dt.month).nunique().mean()['order_purchase_timestamp']\n",
        "customers_by_third_trimester = df_customer.groupby(customers_by_third_trimester.order_purchase_timestamp.dt.month).nunique().mean()['order_purchase_timestamp']\n",
        "customers_by_fourth_trimester = df_customer.groupby(customers_by_fourth_trimester.order_purchase_timestamp.dt.month).nunique().mean()['order_purchase_timestamp']\n",
        "\n",
        "print((customers_by_first_trimester/orders_by_month)*100)\n",
        "print((customers_by_second_trimester/orders_by_month)*100)\n",
        "print((customers_by_third_trimester/orders_by_month)*100)\n",
        "print((customers_by_fourth_trimester/orders_by_month)*100)"
      ],
      "metadata": {
        "colab": {
          "base_uri": "https://localhost:8080/"
        },
        "id": "6RJe7H2mECA5",
        "outputId": "764b5127-8abd-4a62-ccff-3fc34e2c4587"
      },
      "execution_count": 73,
      "outputs": [
        {
          "output_type": "stream",
          "name": "stderr",
          "text": [
            "<ipython-input-73-796bd8c9995d>:2: SettingWithCopyWarning: \n",
            "A value is trying to be set on a copy of a slice from a DataFrame.\n",
            "Try using .loc[row_indexer,col_indexer] = value instead\n",
            "\n",
            "See the caveats in the documentation: https://pandas.pydata.org/pandas-docs/stable/user_guide/indexing.html#returning-a-view-versus-a-copy\n",
            "  df_customer['order_purchase_timestamp'] = pd.to_datetime(df_customer.order_purchase_timestamp, format='%Y-%m-%d')\n"
          ]
        },
        {
          "output_type": "stream",
          "name": "stdout",
          "text": [
            "8.817959057799767\n",
            "9.78369083174948\n",
            "8.487444816524372\n",
            "6.054511385310553\n"
          ]
        }
      ]
    },
    {
      "cell_type": "markdown",
      "source": [
        "Se compra más productos en el mes de agosto y en el segundo trimestre del año"
      ],
      "metadata": {
        "id": "lH44ZWiOe9pU"
      }
    },
    {
      "cell_type": "markdown",
      "source": [
        "- 4to KPI: Net promoter score (NPS). Objetivo: Aumentar NPS 8%.\n",
        "Puntuación neta positivas\n",
        "\n"
      ],
      "metadata": {
        "id": "dxe6vuGA6GC0"
      }
    },
    {
      "cell_type": "code",
      "source": [
        "inner_join_df= pd.merge(df_order_reviews, df_order_items, on='order_id', how='inner')\n",
        "sellers_positive_reviews = inner_join_df[inner_join_df['review_score'] >= 4.0]\n",
        "sellers_positive_reviews.groupby(['seller_id'])['review_score'].mean().head(10)"
      ],
      "metadata": {
        "colab": {
          "base_uri": "https://localhost:8080/"
        },
        "id": "L_yVkcgc13Fs",
        "outputId": "b8842887-0154-4953-82ed-ebe22f5e5fb4"
      },
      "execution_count": 74,
      "outputs": [
        {
          "output_type": "execute_result",
          "data": {
            "text/plain": [
              "seller_id\n",
              "0015a82c2db000af6aaaf3ae2ecb0532    5.000000\n",
              "001cca7ae9ae17fb1caed9dfb1094831    4.707602\n",
              "002100f778ceb8431b7a1020ff7ab48f    4.794872\n",
              "003554e2dce176b5555353e4f3555ac8    5.000000\n",
              "004c9cd9d87a3c30c522c48c4fc07416    4.800000\n",
              "00720abe85ba0859807595bbf045a33b    4.666667\n",
              "00ab3eff1b5192e5f1a63bcecfee11c8    5.000000\n",
              "00d8b143d12632bad99c0ad66ad52825    5.000000\n",
              "00ee68308b45bc5e2660cd833c3f81cc    4.786207\n",
              "00fc707aaaad2d31347cf883cd2dfe10    4.744681\n",
              "Name: review_score, dtype: float64"
            ]
          },
          "metadata": {},
          "execution_count": 74
        }
      ]
    },
    {
      "cell_type": "markdown",
      "source": [
        "Puntuación negativa"
      ],
      "metadata": {
        "id": "Y4u9Drqf9174"
      }
    },
    {
      "cell_type": "code",
      "source": [
        "sellers_negative_reviews = inner_join_df[inner_join_df['review_score'] <= 2.0]\n",
        "sellers_negative_reviews.groupby(['seller_id'])['review_score'].mean().head(10)"
      ],
      "metadata": {
        "colab": {
          "base_uri": "https://localhost:8080/"
        },
        "id": "yNw038A297-o",
        "outputId": "aaad7eb3-f4b5-4faf-aee1-71271704a7bf"
      },
      "execution_count": 75,
      "outputs": [
        {
          "output_type": "execute_result",
          "data": {
            "text/plain": [
              "seller_id\n",
              "0015a82c2db000af6aaaf3ae2ecb0532    1.000000\n",
              "001cca7ae9ae17fb1caed9dfb1094831    1.244444\n",
              "001e6ad469a905060d959994f1b41e4f    1.000000\n",
              "002100f778ceb8431b7a1020ff7ab48f    1.125000\n",
              "004c9cd9d87a3c30c522c48c4fc07416    1.416667\n",
              "00720abe85ba0859807595bbf045a33b    1.000000\n",
              "00ee68308b45bc5e2660cd833c3f81cc    1.235294\n",
              "00fc707aaaad2d31347cf883cd2dfe10    1.333333\n",
              "010da0602d7774602cd1b3f5fb7b709e    1.000000\n",
              "013900e863eace745d3ec7614cab5b1a    2.000000\n",
              "Name: review_score, dtype: float64"
            ]
          },
          "metadata": {},
          "execution_count": 75
        }
      ]
    },
    {
      "cell_type": "markdown",
      "source": [
        "- 5to KPI: Ticket promedio mensual y trimestral. Objetivo aumentar el ticket promedio mensual un 10%\n",
        "\n"
      ],
      "metadata": {
        "id": "1ppR6u_bSZTo"
      }
    },
    {
      "cell_type": "code",
      "source": [
        "inner_join_df= pd.merge(df_olist_products, df_order_items, on='product_id', how='inner')\n",
        "inner_join_df = inner_join_df.groupby(['product_category_name'])['price'].mean()\n",
        "\n",
        "print(inner_join_df.sort_values(ascending=False).head(3))\n",
        "print(inner_join_df.sort_values().head(3))"
      ],
      "metadata": {
        "colab": {
          "base_uri": "https://localhost:8080/"
        },
        "id": "z5aZUjXWSYcd",
        "outputId": "cf6907df-6290-4291-fca0-85cbd9a6b992"
      },
      "execution_count": 76,
      "outputs": [
        {
          "output_type": "stream",
          "name": "stdout",
          "text": [
            "product_category_name\n",
            "pcs                            1098.340542\n",
            "portateis_casa_forno_e_cafe     624.285658\n",
            "eletrodomesticos_2              476.124958\n",
            "Name: price, dtype: float64\n",
            "product_category_name\n",
            "casa_conforto_2    25.342333\n",
            "flores             33.637576\n",
            "fraldas_higiene    40.194615\n",
            "Name: price, dtype: float64\n"
          ]
        }
      ]
    }
  ]
}