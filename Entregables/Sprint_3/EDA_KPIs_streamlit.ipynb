{
  "nbformat": 4,
  "nbformat_minor": 0,
  "metadata": {
    "colab": {
      "provenance": []
    },
    "kernelspec": {
      "name": "python3",
      "display_name": "Python 3"
    },
    "language_info": {
      "name": "python"
    }
  },
  "cells": [
    {
      "cell_type": "markdown",
      "source": [
        "Instalación"
      ],
      "metadata": {
        "id": "fBm0KWbEgpes"
      }
    },
    {
      "cell_type": "code",
      "execution_count": 41,
      "metadata": {
        "colab": {
          "base_uri": "https://localhost:8080/"
        },
        "id": "GlPIUq-XgV6P",
        "outputId": "a60a2107-fb10-4613-ccbb-d12020dfcd00"
      },
      "outputs": [
        {
          "output_type": "stream",
          "name": "stdout",
          "text": [
            "\u001b[K\u001b[?25h\u001b[37;40mnpm\u001b[0m \u001b[0m\u001b[30;43mWARN\u001b[0m \u001b[0m\u001b[35msaveError\u001b[0m ENOENT: no such file or directory, open '/content/package.json'\n",
            "\u001b[0m\u001b[37;40mnpm\u001b[0m \u001b[0m\u001b[30;43mWARN\u001b[0m \u001b[0m\u001b[35menoent\u001b[0m ENOENT: no such file or directory, open '/content/package.json'\n",
            "\u001b[0m\u001b[37;40mnpm\u001b[0m \u001b[0m\u001b[30;43mWARN\u001b[0m\u001b[35m\u001b[0m content No description\n",
            "\u001b[0m\u001b[37;40mnpm\u001b[0m \u001b[0m\u001b[30;43mWARN\u001b[0m\u001b[35m\u001b[0m content No repository field.\n",
            "\u001b[0m\u001b[37;40mnpm\u001b[0m \u001b[0m\u001b[30;43mWARN\u001b[0m\u001b[35m\u001b[0m content No README data\n",
            "\u001b[0m\u001b[37;40mnpm\u001b[0m \u001b[0m\u001b[30;43mWARN\u001b[0m\u001b[35m\u001b[0m content No license field.\n",
            "\u001b[0m\n",
            "\u001b[K\u001b[?25h+ localtunnel@2.0.2\n",
            "updated 1 package and audited 36 packages in 0.457s\n",
            "\n",
            "3 packages are looking for funding\n",
            "  run `npm fund` for details\n",
            "\n",
            "found \u001b[92m0\u001b[0m vulnerabilities\n",
            "\n",
            "\u001b[K\u001b[?25h"
          ]
        }
      ],
      "source": [
        "!pip install -q streamlit\n",
        "!npm install localtunnel"
      ]
    },
    {
      "cell_type": "markdown",
      "source": [
        "Se crea el archivo con las lineas del EDA combinadas para mostrarlas en streamlit"
      ],
      "metadata": {
        "id": "aI3TtVpUhXWi"
      }
    },
    {
      "cell_type": "code",
      "source": [
        "%%writefile app.py\n",
        "import streamlit as st\n",
        "import pandas as pd\n",
        "\n",
        "df_customers = pd.read_csv(\"https://raw.githubusercontent.com/Astroprogramm/PF-E-commerce-Olist/master/Datasets/olist_customers_dataset.csv\")\n",
        "df_order_items = pd.read_csv(\"https://raw.githubusercontent.com/Astroprogramm/PF-E-commerce-Olist/master/Datasets/olist_order_items_dataset.csv\")\n",
        "df_order_payments = pd.read_csv(\"https://raw.githubusercontent.com/Astroprogramm/PF-E-commerce-Olist/master/Datasets/olist_order_payments_dataset.csv\")\n",
        "df_order_reviews = pd.read_csv(\"https://raw.githubusercontent.com/Astroprogramm/PF-E-commerce-Olist/master/Datasets/olist_order_reviews_dataset.csv\")\n",
        "df_olist_orders = pd.read_csv(\"https://raw.githubusercontent.com/Astroprogramm/PF-E-commerce-Olist/master/Datasets/olist_orders_dataset.csv\")\n",
        "df_olist_products = pd.read_csv(\"https://raw.githubusercontent.com/Astroprogramm/PF-E-commerce-Olist/master/Datasets/olist_products_dataset.csv\")\n",
        "\n",
        "st.title('Dashboard KPIs olist')\n",
        "\n",
        "# PRIMER KPI\n",
        "st.header('1er KPI: Porcentaje de aumento o disminución en las ventas mensuales y trimestrales')\n",
        "st.subheader('Variación mensual')\n",
        "\n",
        "df_order_payments_data = df_order_payments[['order_id', 'payment_value']] \n",
        "df_olist_orders_data = df_olist_orders[['order_id', 'order_purchase_timestamp']]\n",
        "inner_join_df= pd.merge(df_order_payments_data, df_olist_orders_data, on='order_id', how='inner')\n",
        "inner_join_df['order_purchase_timestamp'] = pd.to_datetime(inner_join_df.order_purchase_timestamp, format='%Y-%m-%d')\n",
        "st.bar_chart(inner_join_df.groupby(inner_join_df.order_purchase_timestamp.dt.month)['payment_value'].mean())\n",
        "\n",
        "st.subheader('Variación trimestral')\n",
        "df_order_payments_data = df_order_payments[['order_id', 'payment_value']] \n",
        "df_olist_orders_data = df_olist_orders[['order_id', 'order_purchase_timestamp']]\n",
        "inner_join_df= pd.merge(df_order_payments_data, df_olist_orders_data, on='order_id', how='inner')\n",
        "inner_join_df['order_purchase_timestamp'] = pd.to_datetime(inner_join_df.order_purchase_timestamp, format='%Y-%m-%d')\n",
        "inner_join_df.groupby(inner_join_df.order_purchase_timestamp.dt.month)['payment_value'].mean()\n",
        "\n",
        "orders_by_month = len(inner_join_df)\n",
        "orders_by_first_trimester = inner_join_df[inner_join_df.order_purchase_timestamp.dt.month <= 3 ]\n",
        "orders_by_second_trimester = inner_join_df[(3 < inner_join_df.order_purchase_timestamp.dt.month) & (inner_join_df.order_purchase_timestamp.dt.month<=6)]\n",
        "orders_by_third_trimester = inner_join_df[(6 < inner_join_df.order_purchase_timestamp.dt.month) & (inner_join_df.order_purchase_timestamp.dt.month<=9)]\n",
        "orders_by_fourth_trimester = inner_join_df[(9 < inner_join_df.order_purchase_timestamp.dt.month) & (inner_join_df.order_purchase_timestamp.dt.month<=12)]\n",
        "\n",
        "orders_by_first_trimester = inner_join_df.groupby(orders_by_first_trimester.order_purchase_timestamp.dt.month).nunique().mean()['order_purchase_timestamp']\n",
        "orders_by_second_trimester = inner_join_df.groupby(orders_by_second_trimester.order_purchase_timestamp.dt.month).nunique().mean()['order_purchase_timestamp']\n",
        "orders_by_third_trimester = inner_join_df.groupby(orders_by_third_trimester.order_purchase_timestamp.dt.month).nunique().mean()['order_purchase_timestamp']\n",
        "orders_by_fourth_trimester = inner_join_df.groupby(orders_by_fourth_trimester.order_purchase_timestamp.dt.month).nunique().mean()['order_purchase_timestamp']\n",
        "\n",
        "st.metric(label=\"Primer trimestre\", value=((orders_by_first_trimester/orders_by_month)*100))\n",
        "st.metric(label=\"Segundo trimestre\", value=((orders_by_second_trimester/orders_by_month)*100))\n",
        "st.metric(label=\"Segundo trimestre\", value=((orders_by_third_trimester/orders_by_month)*100))\n",
        "st.metric(label=\"Segundo trimestre\", value=((orders_by_fourth_trimester/orders_by_month)*100))\n",
        "\n",
        "# SEGUNDO KPI\n",
        "st.header('2do KPI: Estados de Brazil en los que más se vende y menos se vende')\n",
        "inner_join_df= pd.merge(df_customers, df_olist_orders, on='customer_id', how='inner')\n",
        "orders_by_city = inner_join_df.groupby(inner_join_df.customer_state).nunique()\n",
        "st.subheader('Estados con menos ventas')\n",
        "print(orders_by_city.sort_values(by=['order_delivered_customer_date'])['order_delivered_customer_date'].head(3))\n",
        "col1, col2, col3 = st.columns(3)\n",
        "col1.metric(\"Roraima\", \"RR\")\n",
        "col2.metric(\"Amapá\", \"AP\")\n",
        "col3.metric(\"Acre\", \"AC\")\n",
        "st.subheader('Estados con mayores ventas')\n",
        "print(orders_by_city.sort_values(by=['order_delivered_customer_date'], ascending=False)['order_delivered_customer_date'].head(3))\n",
        "c1, c2, c3 = st.columns(3)\n",
        "c1.metric(\"Säo Paulo\", \"SP\")\n",
        "c2.metric(\"Río de Janeiro\", \"RJ\")\n",
        "c3.metric(\"Minas Gerais\", \"MG\")\n",
        "\n",
        "# TERCER KPI\n",
        "st.header('3er KPI: Frecuencia de compra mensual y trimestral.')\n",
        "st.subheader('Porcentaje de frecuencia de compra mensual')\n",
        "df_orders = df_olist_orders[['order_id']]\n",
        "df_customer = df_olist_orders[['customer_id', 'order_purchase_timestamp']]\n",
        "df_customer['order_purchase_timestamp'] = pd.to_datetime(df_customer.order_purchase_timestamp, format='%Y-%m-%d')\n",
        "orders_by_month = len(df_orders)\n",
        "customers_by_month = df_customer.groupby(df_customer.order_purchase_timestamp.dt.month).nunique()\n",
        "st.table((customers_by_month/orders_by_month)*100)\n",
        "\n",
        "st.subheader('Porcentaje de frecuencia de compra trimestral')\n",
        "df_customer = df_olist_orders[['customer_id', 'order_purchase_timestamp']]\n",
        "df_customer['order_purchase_timestamp'] = pd.to_datetime(df_customer.order_purchase_timestamp, format='%Y-%m-%d')\n",
        "orders_by_month = len(df_customer)\n",
        "customers_by_first_trimester = df_customer[df_customer.order_purchase_timestamp.dt.month <= 3 ]\n",
        "customers_by_second_trimester = df_customer[(3 < df_customer.order_purchase_timestamp.dt.month) & (df_customer.order_purchase_timestamp.dt.month<=6)]\n",
        "customers_by_third_trimester = df_customer[(6 < df_customer.order_purchase_timestamp.dt.month) & (df_customer.order_purchase_timestamp.dt.month<=9)]\n",
        "customers_by_fourth_trimester = df_customer[(9 < df_customer.order_purchase_timestamp.dt.month) & (df_customer.order_purchase_timestamp.dt.month<=12)]\n",
        "\n",
        "customers_by_first_trimester = df_customer.groupby(customers_by_first_trimester.order_purchase_timestamp.dt.month).nunique().mean()['order_purchase_timestamp']\n",
        "customers_by_second_trimester = df_customer.groupby(customers_by_second_trimester.order_purchase_timestamp.dt.month).nunique().mean()['order_purchase_timestamp']\n",
        "customers_by_third_trimester = df_customer.groupby(customers_by_third_trimester.order_purchase_timestamp.dt.month).nunique().mean()['order_purchase_timestamp']\n",
        "customers_by_fourth_trimester = df_customer.groupby(customers_by_fourth_trimester.order_purchase_timestamp.dt.month).nunique().mean()['order_purchase_timestamp']\n",
        "\n",
        "st.metric(label=\"Primer trimestre\", value=((customers_by_first_trimester/orders_by_month)*100))\n",
        "st.metric(label=\"Segundo trimestre\", value=((customers_by_second_trimester/orders_by_month)*100))\n",
        "st.metric(label=\"Segundo trimestre\", value=((customers_by_third_trimester/orders_by_month)*100))\n",
        "st.metric(label=\"Segundo trimestre\", value=((customers_by_fourth_trimester/orders_by_month)*100))\n",
        "\n",
        "st.caption('Se compra más productos en el mes de agosto y en el segundo trimestre del año')\n",
        "\n",
        "# CUARTO KPI\n",
        "st.header('4to KPI: Net promoter score (NPS). Objetivo: Aumentar NPS 8%. Puntuación neta positivas')\n",
        "st.subheader('Puntuación positiva')\n",
        "inner_join_df= pd.merge(df_order_reviews, df_order_items, on='order_id', how='inner')\n",
        "sellers_positive_reviews = inner_join_df[inner_join_df['review_score'] >= 4.0]\n",
        "st.table(sellers_positive_reviews.groupby(['seller_id'])['review_score'].mean().head(10))\n",
        "st.subheader('Puntuación negativa')\n",
        "sellers_negative_reviews = inner_join_df[inner_join_df['review_score'] <= 2.0]\n",
        "st.table(sellers_negative_reviews.groupby(['seller_id'])['review_score'].mean().head(10))\n",
        "\n",
        "# QUINTO KPI\n",
        "st.header('5to KPI: Ticket promedio mensual y trimestral. Objetivo aumentar el ticket promedio mensual un 10%')\n",
        "inner_join_df= pd.merge(df_olist_products, df_order_items, on='product_id', how='inner')\n",
        "inner_join_df = inner_join_df.groupby(['product_category_name'])['price'].mean()\n",
        "st.subheader('Productos con mayor precio por categoría')\n",
        "st.table(inner_join_df.sort_values(ascending=False).head(3))\n",
        "st.subheader('Productos con menor precio por categoría')\n",
        "st.table(inner_join_df.sort_values().head(3))"
      ],
      "metadata": {
        "colab": {
          "base_uri": "https://localhost:8080/"
        },
        "id": "g4eNpJRVhV_O",
        "outputId": "61911eb7-1d2c-4502-8a07-8e2bba626816"
      },
      "execution_count": 42,
      "outputs": [
        {
          "output_type": "stream",
          "name": "stdout",
          "text": [
            "Overwriting app.py\n"
          ]
        }
      ]
    },
    {
      "cell_type": "markdown",
      "source": [
        "Ejecutar streamlit"
      ],
      "metadata": {
        "id": "oSYqW0ovg6J2"
      }
    },
    {
      "cell_type": "code",
      "source": [
        "!streamlit run /content/app.py &>/content/logs.txt &"
      ],
      "metadata": {
        "id": "lpumeR1hg49Z"
      },
      "execution_count": 43,
      "outputs": []
    },
    {
      "cell_type": "markdown",
      "source": [
        "Exponer el puerto"
      ],
      "metadata": {
        "id": "ujMPJem1hA7R"
      }
    },
    {
      "cell_type": "code",
      "source": [
        "!npx localtunnel --port 8501"
      ],
      "metadata": {
        "colab": {
          "base_uri": "https://localhost:8080/"
        },
        "id": "LL6g4akAhAHz",
        "outputId": "1b24a5e9-6deb-4b13-9008-87de83d08e38"
      },
      "execution_count": null,
      "outputs": [
        {
          "output_type": "stream",
          "name": "stdout",
          "text": [
            "\u001b[K\u001b[?25hnpx: installed 22 in 2.849s\n",
            "your url is: https://sad-steaks-dance-34-86-242-253.loca.lt\n"
          ]
        }
      ]
    }
  ]
}