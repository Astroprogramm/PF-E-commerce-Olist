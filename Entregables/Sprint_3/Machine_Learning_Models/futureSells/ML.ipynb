{
 "cells": [
  {
   "attachments": {},
   "cell_type": "markdown",
   "metadata": {},
   "source": [
    "Machine learning model that predicts future annual sales"
   ]
  },
  {
   "attachments": {},
   "cell_type": "markdown",
   "metadata": {},
   "source": [
    "Import of necessary libraries:"
   ]
  },
  {
   "cell_type": "code",
   "execution_count": 1,
   "metadata": {},
   "outputs": [],
   "source": [
    "import pandas as pd\n",
    "import numpy as np\n",
    "import datetime\n",
    "\n",
    "import statsmodels.tsa.api as smt\n",
    "import matplotlib.pyplot as plt\n",
    "import seaborn as sns\n",
    "\n",
    "from sklearn.preprocessing import MinMaxScaler\n",
    "from sklearn.linear_model import LinearRegression\n",
    "from sklearn.metrics import mean_squared_error, mean_absolute_error, r2_score\n",
    "\n",
    "import keras\n",
    "from keras.layers import Dense\n",
    "from keras.models import Sequential\n",
    "from keras.optimizers import Adam \n",
    "from keras.callbacks import EarlyStopping\n",
    "from keras.utils import np_utils\n",
    "from keras.layers import LSTM\n",
    "from sklearn.model_selection import KFold, cross_val_score, train_test_split\n",
    "\n",
    "import pickle"
   ]
  },
  {
   "attachments": {},
   "cell_type": "markdown",
   "metadata": {},
   "source": [
    "Load data"
   ]
  },
  {
   "cell_type": "code",
   "execution_count": 2,
   "metadata": {},
   "outputs": [],
   "source": [
    "ventas= pd.read_csv(r'C:\\Users\\Lina_\\OneDrive\\Escritorio\\ProyectoFinal\\Semana 3\\Datasets\\VentasMensuales.csv', sep=';')"
   ]
  },
  {
   "attachments": {},
   "cell_type": "markdown",
   "metadata": {},
   "source": [
    "Data preprocessing"
   ]
  },
  {
   "cell_type": "code",
   "execution_count": 3,
   "metadata": {},
   "outputs": [
    {
     "name": "stdout",
     "output_type": "stream",
     "text": [
      "<class 'pandas.core.frame.DataFrame'>\n",
      "RangeIndex: 616 entries, 0 to 615\n",
      "Data columns (total 2 columns):\n",
      " #   Column  Non-Null Count  Dtype  \n",
      "---  ------  --------------  -----  \n",
      " 0   fecha   616 non-null    object \n",
      " 1   ventas  616 non-null    float64\n",
      "dtypes: float64(1), object(1)\n",
      "memory usage: 9.8+ KB\n"
     ]
    }
   ],
   "source": [
    "ventas.info()"
   ]
  },
  {
   "attachments": {},
   "cell_type": "markdown",
   "metadata": {},
   "source": [
    "View the data"
   ]
  },
  {
   "cell_type": "code",
   "execution_count": 4,
   "metadata": {},
   "outputs": [
    {
     "data": {
      "text/html": [
       "<div>\n",
       "<style scoped>\n",
       "    .dataframe tbody tr th:only-of-type {\n",
       "        vertical-align: middle;\n",
       "    }\n",
       "\n",
       "    .dataframe tbody tr th {\n",
       "        vertical-align: top;\n",
       "    }\n",
       "\n",
       "    .dataframe thead th {\n",
       "        text-align: right;\n",
       "    }\n",
       "</style>\n",
       "<table border=\"1\" class=\"dataframe\">\n",
       "  <thead>\n",
       "    <tr style=\"text-align: right;\">\n",
       "      <th></th>\n",
       "      <th>fecha</th>\n",
       "      <th>ventas</th>\n",
       "    </tr>\n",
       "  </thead>\n",
       "  <tbody>\n",
       "    <tr>\n",
       "      <th>0</th>\n",
       "      <td>2017-01-05</td>\n",
       "      <td>396.90</td>\n",
       "    </tr>\n",
       "    <tr>\n",
       "      <th>1</th>\n",
       "      <td>2017-01-06</td>\n",
       "      <td>916.38</td>\n",
       "    </tr>\n",
       "    <tr>\n",
       "      <th>2</th>\n",
       "      <td>2017-01-07</td>\n",
       "      <td>1351.90</td>\n",
       "    </tr>\n",
       "    <tr>\n",
       "      <th>3</th>\n",
       "      <td>2017-01-08</td>\n",
       "      <td>709.58</td>\n",
       "    </tr>\n",
       "    <tr>\n",
       "      <th>4</th>\n",
       "      <td>2017-01-09</td>\n",
       "      <td>673.79</td>\n",
       "    </tr>\n",
       "    <tr>\n",
       "      <th>5</th>\n",
       "      <td>2017-01-10</td>\n",
       "      <td>1434.87</td>\n",
       "    </tr>\n",
       "    <tr>\n",
       "      <th>6</th>\n",
       "      <td>2017-01-11</td>\n",
       "      <td>2776.16</td>\n",
       "    </tr>\n",
       "    <tr>\n",
       "      <th>7</th>\n",
       "      <td>2017-01-12</td>\n",
       "      <td>2234.58</td>\n",
       "    </tr>\n",
       "    <tr>\n",
       "      <th>8</th>\n",
       "      <td>2017-01-13</td>\n",
       "      <td>2505.58</td>\n",
       "    </tr>\n",
       "    <tr>\n",
       "      <th>9</th>\n",
       "      <td>2017-01-14</td>\n",
       "      <td>1112.69</td>\n",
       "    </tr>\n",
       "  </tbody>\n",
       "</table>\n",
       "</div>"
      ],
      "text/plain": [
       "        fecha   ventas\n",
       "0  2017-01-05   396.90\n",
       "1  2017-01-06   916.38\n",
       "2  2017-01-07  1351.90\n",
       "3  2017-01-08   709.58\n",
       "4  2017-01-09   673.79\n",
       "5  2017-01-10  1434.87\n",
       "6  2017-01-11  2776.16\n",
       "7  2017-01-12  2234.58\n",
       "8  2017-01-13  2505.58\n",
       "9  2017-01-14  1112.69"
      ]
     },
     "execution_count": 4,
     "metadata": {},
     "output_type": "execute_result"
    }
   ],
   "source": [
    "ventas.head(10)"
   ]
  },
  {
   "cell_type": "code",
   "execution_count": 5,
   "metadata": {},
   "outputs": [],
   "source": [
    "def transformData(data):\n",
    "    # We create a copy of the original dataset \n",
    "    monthly_data = data.copy()\n",
    "\n",
    "    # Drop the day indicator from the date column\n",
    "    monthly_data.fecha = monthly_data.fecha.apply(lambda x: str(x)[:-3])\n",
    "\n",
    "    # Sum sales per month \n",
    "    monthly_data = monthly_data.groupby('fecha')['ventas'].sum().reset_index()\n",
    "\n",
    "    # We change the data type to date\n",
    "    monthly_data.fecha = pd.to_datetime(monthly_data.fecha)\n",
    "    \n",
    "    # Divide by 1000 to put the '.' in the right place\n",
    "    monthly_data.ventas /= 1000\n",
    "\n",
    "    # We eliminate sales data that is only from one day, since it generates noise in the prediction\n",
    "    monthly_data.drop(monthly_data[(monthly_data['fecha'] == '2018-09-01')].index, inplace=True)\n",
    "    monthly_data.drop(monthly_data[(monthly_data['fecha'] == '2016-12-01')].index, inplace=True)\n",
    "\n",
    "    return monthly_data\n",
    "\n",
    "ventasM = transformData(ventas)"
   ]
  },
  {
   "cell_type": "code",
   "execution_count": 6,
   "metadata": {},
   "outputs": [
    {
     "data": {
      "text/html": [
       "<div>\n",
       "<style scoped>\n",
       "    .dataframe tbody tr th:only-of-type {\n",
       "        vertical-align: middle;\n",
       "    }\n",
       "\n",
       "    .dataframe tbody tr th {\n",
       "        vertical-align: top;\n",
       "    }\n",
       "\n",
       "    .dataframe thead th {\n",
       "        text-align: right;\n",
       "    }\n",
       "</style>\n",
       "<table border=\"1\" class=\"dataframe\">\n",
       "  <thead>\n",
       "    <tr style=\"text-align: right;\">\n",
       "      <th></th>\n",
       "      <th>fecha</th>\n",
       "      <th>ventas</th>\n",
       "    </tr>\n",
       "  </thead>\n",
       "  <tbody>\n",
       "    <tr>\n",
       "      <th>0</th>\n",
       "      <td>2016-09-01</td>\n",
       "      <td>0.26736</td>\n",
       "    </tr>\n",
       "    <tr>\n",
       "      <th>1</th>\n",
       "      <td>2016-10-01</td>\n",
       "      <td>49.50766</td>\n",
       "    </tr>\n",
       "    <tr>\n",
       "      <th>3</th>\n",
       "      <td>2017-01-01</td>\n",
       "      <td>120.31287</td>\n",
       "    </tr>\n",
       "    <tr>\n",
       "      <th>4</th>\n",
       "      <td>2017-02-01</td>\n",
       "      <td>247.30302</td>\n",
       "    </tr>\n",
       "    <tr>\n",
       "      <th>5</th>\n",
       "      <td>2017-03-01</td>\n",
       "      <td>374.34430</td>\n",
       "    </tr>\n",
       "    <tr>\n",
       "      <th>6</th>\n",
       "      <td>2017-04-01</td>\n",
       "      <td>359.92723</td>\n",
       "    </tr>\n",
       "    <tr>\n",
       "      <th>7</th>\n",
       "      <td>2017-05-01</td>\n",
       "      <td>506.07114</td>\n",
       "    </tr>\n",
       "    <tr>\n",
       "      <th>8</th>\n",
       "      <td>2017-06-01</td>\n",
       "      <td>433.03860</td>\n",
       "    </tr>\n",
       "    <tr>\n",
       "      <th>9</th>\n",
       "      <td>2017-07-01</td>\n",
       "      <td>498.03148</td>\n",
       "    </tr>\n",
       "    <tr>\n",
       "      <th>10</th>\n",
       "      <td>2017-08-01</td>\n",
       "      <td>573.97168</td>\n",
       "    </tr>\n",
       "    <tr>\n",
       "      <th>11</th>\n",
       "      <td>2017-09-01</td>\n",
       "      <td>624.40169</td>\n",
       "    </tr>\n",
       "    <tr>\n",
       "      <th>12</th>\n",
       "      <td>2017-10-01</td>\n",
       "      <td>664.21943</td>\n",
       "    </tr>\n",
       "    <tr>\n",
       "      <th>13</th>\n",
       "      <td>2017-11-01</td>\n",
       "      <td>1010.27137</td>\n",
       "    </tr>\n",
       "    <tr>\n",
       "      <th>14</th>\n",
       "      <td>2017-12-01</td>\n",
       "      <td>743.91417</td>\n",
       "    </tr>\n",
       "    <tr>\n",
       "      <th>15</th>\n",
       "      <td>2018-01-01</td>\n",
       "      <td>950.03036</td>\n",
       "    </tr>\n",
       "    <tr>\n",
       "      <th>16</th>\n",
       "      <td>2018-02-01</td>\n",
       "      <td>844.17871</td>\n",
       "    </tr>\n",
       "    <tr>\n",
       "      <th>17</th>\n",
       "      <td>2018-03-01</td>\n",
       "      <td>983.21344</td>\n",
       "    </tr>\n",
       "    <tr>\n",
       "      <th>18</th>\n",
       "      <td>2018-04-01</td>\n",
       "      <td>996.64775</td>\n",
       "    </tr>\n",
       "    <tr>\n",
       "      <th>19</th>\n",
       "      <td>2018-05-01</td>\n",
       "      <td>996.51768</td>\n",
       "    </tr>\n",
       "    <tr>\n",
       "      <th>20</th>\n",
       "      <td>2018-06-01</td>\n",
       "      <td>865.12431</td>\n",
       "    </tr>\n",
       "    <tr>\n",
       "      <th>21</th>\n",
       "      <td>2018-07-01</td>\n",
       "      <td>895.50722</td>\n",
       "    </tr>\n",
       "    <tr>\n",
       "      <th>22</th>\n",
       "      <td>2018-08-01</td>\n",
       "      <td>854.68633</td>\n",
       "    </tr>\n",
       "  </tbody>\n",
       "</table>\n",
       "</div>"
      ],
      "text/plain": [
       "        fecha      ventas\n",
       "0  2016-09-01     0.26736\n",
       "1  2016-10-01    49.50766\n",
       "3  2017-01-01   120.31287\n",
       "4  2017-02-01   247.30302\n",
       "5  2017-03-01   374.34430\n",
       "6  2017-04-01   359.92723\n",
       "7  2017-05-01   506.07114\n",
       "8  2017-06-01   433.03860\n",
       "9  2017-07-01   498.03148\n",
       "10 2017-08-01   573.97168\n",
       "11 2017-09-01   624.40169\n",
       "12 2017-10-01   664.21943\n",
       "13 2017-11-01  1010.27137\n",
       "14 2017-12-01   743.91417\n",
       "15 2018-01-01   950.03036\n",
       "16 2018-02-01   844.17871\n",
       "17 2018-03-01   983.21344\n",
       "18 2018-04-01   996.64775\n",
       "19 2018-05-01   996.51768\n",
       "20 2018-06-01   865.12431\n",
       "21 2018-07-01   895.50722\n",
       "22 2018-08-01   854.68633"
      ]
     },
     "execution_count": 6,
     "metadata": {},
     "output_type": "execute_result"
    }
   ],
   "source": [
    "#Verify the changes\n",
    "ventasM"
   ]
  },
  {
   "attachments": {},
   "cell_type": "markdown",
   "metadata": {},
   "source": [
    "EDA"
   ]
  },
  {
   "cell_type": "code",
   "execution_count": 7,
   "metadata": {},
   "outputs": [
    {
     "data": {
      "image/png": "[encoded data removed]",
      "text/plain": [
       "<Figure size 1800x720 with 1 Axes>"
      ]
     },
     "metadata": {
      "needs_background": "light"
     },
     "output_type": "display_data"
    }
   ],
   "source": [
    "#We graph the data frame information to visualize the behavior of the data\n",
    "plt.figure(figsize=(25,10))\n",
    "sns.lineplot(x = 'fecha', y = 'ventas', data = ventasM)\n",
    "plt.show()"
   ]
  },
  {
   "cell_type": "code",
   "execution_count": 8,
   "metadata": {},
   "outputs": [
    {
     "data": {
      "image/png": "[encoded data removed]",
      "text/plain": [
       "<Figure size 504x288 with 1 Axes>"
      ]
     },
     "metadata": {
      "needs_background": "light"
     },
     "output_type": "display_data"
    }
   ],
   "source": [
    "def sales_per_day():\n",
    "    fig, ax = plt.subplots(figsize=(7,4))\n",
    "    plt.hist(ventasM.ventas, color='mediumblue')\n",
    "    \n",
    "    ax.set(xlabel = \"Sales Per day\",\n",
    "           ylabel = \"Count\",\n",
    "           title = \"Distrobution of Sales Per Day\")\n",
    "    \n",
    "sales_per_day()"
   ]
  },
  {
   "cell_type": "code",
   "execution_count": 9,
   "metadata": {},
   "outputs": [
    {
     "name": "stdout",
     "output_type": "stream",
     "text": [
      "Overall average monthly ventas: $617.7949000000007\n",
      "Last 12 months average monthly ventas: $869.0593716666682\n"
     ]
    }
   ],
   "source": [
    "# Average monthly sells\n",
    "\n",
    "# Overall\n",
    "avg_monthly_sells = ventasM.ventas.mean()\n",
    "print(f\"Overall average monthly ventas: ${avg_monthly_sells}\")\n",
    "\n",
    "# Last 12 months (this will be the forecasted ventas)\n",
    "avg_monthly_sells_12month = ventasM.ventas[-12:].mean()\n",
    "print(f\"Last 12 months average monthly ventas: ${avg_monthly_sells_12month}\")"
   ]
  },
  {
   "cell_type": "code",
   "execution_count": 10,
   "metadata": {},
   "outputs": [
    {
     "name": "stderr",
     "output_type": "stream",
     "text": [
      "c:\\Users\\Lina_\\AppData\\Local\\Programs\\Python\\Python310\\lib\\site-packages\\seaborn\\_decorators.py:36: FutureWarning: Pass the following variables as keyword args: x, y. From version 0.12, the only valid positional argument will be `data`, and passing other arguments without an explicit keyword will result in an error or misinterpretation.\n",
      "  warnings.warn(\n",
      "c:\\Users\\Lina_\\AppData\\Local\\Programs\\Python\\Python310\\lib\\site-packages\\seaborn\\_decorators.py:36: FutureWarning: Pass the following variables as keyword args: x, y. From version 0.12, the only valid positional argument will be `data`, and passing other arguments without an explicit keyword will result in an error or misinterpretation.\n",
      "  warnings.warn(\n"
     ]
    },
    {
     "data": {
      "image/png": "[encoded data removed]",
      "text/plain": [
       "<Figure size 1080x360 with 1 Axes>"
      ]
     },
     "metadata": {
      "needs_background": "light"
     },
     "output_type": "display_data"
    }
   ],
   "source": [
    "def time_plot(data, x_col, y_col, title):\n",
    "    fig, ax = plt.subplots(figsize=(15,5))\n",
    "    sns.lineplot(x_col, y_col, data=data, ax=ax, color='mediumblue', label='Total Sales')\n",
    "    \n",
    "    second = data.groupby(data.fecha.dt.year)[y_col].mean().reset_index()\n",
    "    second.fecha = pd.to_datetime(second.fecha, format='%Y')\n",
    "    sns.lineplot((second.fecha + datetime.timedelta(7*365/12)), y_col, data=second, ax=ax, color='red', label='Mean Sales')   \n",
    "    \n",
    "    ax.set(xlabel = \"fecha\",\n",
    "           ylabel = \"ventas\",\n",
    "           title = title)\n",
    "    \n",
    "    sns.despine()\n",
    "\n",
    "time_plot(ventasM, 'fecha', 'ventas', 'Monthly Sales Before Diff Transformation')"
   ]
  },
  {
   "cell_type": "code",
   "execution_count": 11,
   "metadata": {},
   "outputs": [],
   "source": [
    "#We create a copy dataframe where we will create a column that calculates the difference in monthly sales\n",
    "def get_diff(data):\n",
    "    data['diferenciaVentas'] =  data.ventas.diff()\n",
    "    data = data.dropna()\n",
    "    return data\n",
    "\n",
    "stationary_df = get_diff(ventasM)"
   ]
  },
  {
   "cell_type": "code",
   "execution_count": 12,
   "metadata": {},
   "outputs": [
    {
     "data": {
      "text/html": [
       "<div>\n",
       "<style scoped>\n",
       "    .dataframe tbody tr th:only-of-type {\n",
       "        vertical-align: middle;\n",
       "    }\n",
       "\n",
       "    .dataframe tbody tr th {\n",
       "        vertical-align: top;\n",
       "    }\n",
       "\n",
       "    .dataframe thead th {\n",
       "        text-align: right;\n",
       "    }\n",
       "</style>\n",
       "<table border=\"1\" class=\"dataframe\">\n",
       "  <thead>\n",
       "    <tr style=\"text-align: right;\">\n",
       "      <th></th>\n",
       "      <th>fecha</th>\n",
       "      <th>ventas</th>\n",
       "      <th>diferenciaVentas</th>\n",
       "    </tr>\n",
       "  </thead>\n",
       "  <tbody>\n",
       "    <tr>\n",
       "      <th>1</th>\n",
       "      <td>2016-10-01</td>\n",
       "      <td>49.50766</td>\n",
       "      <td>49.24030</td>\n",
       "    </tr>\n",
       "    <tr>\n",
       "      <th>3</th>\n",
       "      <td>2017-01-01</td>\n",
       "      <td>120.31287</td>\n",
       "      <td>70.80521</td>\n",
       "    </tr>\n",
       "    <tr>\n",
       "      <th>4</th>\n",
       "      <td>2017-02-01</td>\n",
       "      <td>247.30302</td>\n",
       "      <td>126.99015</td>\n",
       "    </tr>\n",
       "    <tr>\n",
       "      <th>5</th>\n",
       "      <td>2017-03-01</td>\n",
       "      <td>374.34430</td>\n",
       "      <td>127.04128</td>\n",
       "    </tr>\n",
       "    <tr>\n",
       "      <th>6</th>\n",
       "      <td>2017-04-01</td>\n",
       "      <td>359.92723</td>\n",
       "      <td>-14.41707</td>\n",
       "    </tr>\n",
       "    <tr>\n",
       "      <th>7</th>\n",
       "      <td>2017-05-01</td>\n",
       "      <td>506.07114</td>\n",
       "      <td>146.14391</td>\n",
       "    </tr>\n",
       "    <tr>\n",
       "      <th>8</th>\n",
       "      <td>2017-06-01</td>\n",
       "      <td>433.03860</td>\n",
       "      <td>-73.03254</td>\n",
       "    </tr>\n",
       "    <tr>\n",
       "      <th>9</th>\n",
       "      <td>2017-07-01</td>\n",
       "      <td>498.03148</td>\n",
       "      <td>64.99288</td>\n",
       "    </tr>\n",
       "    <tr>\n",
       "      <th>10</th>\n",
       "      <td>2017-08-01</td>\n",
       "      <td>573.97168</td>\n",
       "      <td>75.94020</td>\n",
       "    </tr>\n",
       "    <tr>\n",
       "      <th>11</th>\n",
       "      <td>2017-09-01</td>\n",
       "      <td>624.40169</td>\n",
       "      <td>50.43001</td>\n",
       "    </tr>\n",
       "    <tr>\n",
       "      <th>12</th>\n",
       "      <td>2017-10-01</td>\n",
       "      <td>664.21943</td>\n",
       "      <td>39.81774</td>\n",
       "    </tr>\n",
       "    <tr>\n",
       "      <th>13</th>\n",
       "      <td>2017-11-01</td>\n",
       "      <td>1010.27137</td>\n",
       "      <td>346.05194</td>\n",
       "    </tr>\n",
       "    <tr>\n",
       "      <th>14</th>\n",
       "      <td>2017-12-01</td>\n",
       "      <td>743.91417</td>\n",
       "      <td>-266.35720</td>\n",
       "    </tr>\n",
       "    <tr>\n",
       "      <th>15</th>\n",
       "      <td>2018-01-01</td>\n",
       "      <td>950.03036</td>\n",
       "      <td>206.11619</td>\n",
       "    </tr>\n",
       "    <tr>\n",
       "      <th>16</th>\n",
       "      <td>2018-02-01</td>\n",
       "      <td>844.17871</td>\n",
       "      <td>-105.85165</td>\n",
       "    </tr>\n",
       "    <tr>\n",
       "      <th>17</th>\n",
       "      <td>2018-03-01</td>\n",
       "      <td>983.21344</td>\n",
       "      <td>139.03473</td>\n",
       "    </tr>\n",
       "    <tr>\n",
       "      <th>18</th>\n",
       "      <td>2018-04-01</td>\n",
       "      <td>996.64775</td>\n",
       "      <td>13.43431</td>\n",
       "    </tr>\n",
       "    <tr>\n",
       "      <th>19</th>\n",
       "      <td>2018-05-01</td>\n",
       "      <td>996.51768</td>\n",
       "      <td>-0.13007</td>\n",
       "    </tr>\n",
       "    <tr>\n",
       "      <th>20</th>\n",
       "      <td>2018-06-01</td>\n",
       "      <td>865.12431</td>\n",
       "      <td>-131.39337</td>\n",
       "    </tr>\n",
       "    <tr>\n",
       "      <th>21</th>\n",
       "      <td>2018-07-01</td>\n",
       "      <td>895.50722</td>\n",
       "      <td>30.38291</td>\n",
       "    </tr>\n",
       "    <tr>\n",
       "      <th>22</th>\n",
       "      <td>2018-08-01</td>\n",
       "      <td>854.68633</td>\n",
       "      <td>-40.82089</td>\n",
       "    </tr>\n",
       "  </tbody>\n",
       "</table>\n",
       "</div>"
      ],
      "text/plain": [
       "        fecha      ventas  diferenciaVentas\n",
       "1  2016-10-01    49.50766          49.24030\n",
       "3  2017-01-01   120.31287          70.80521\n",
       "4  2017-02-01   247.30302         126.99015\n",
       "5  2017-03-01   374.34430         127.04128\n",
       "6  2017-04-01   359.92723         -14.41707\n",
       "7  2017-05-01   506.07114         146.14391\n",
       "8  2017-06-01   433.03860         -73.03254\n",
       "9  2017-07-01   498.03148          64.99288\n",
       "10 2017-08-01   573.97168          75.94020\n",
       "11 2017-09-01   624.40169          50.43001\n",
       "12 2017-10-01   664.21943          39.81774\n",
       "13 2017-11-01  1010.27137         346.05194\n",
       "14 2017-12-01   743.91417        -266.35720\n",
       "15 2018-01-01   950.03036         206.11619\n",
       "16 2018-02-01   844.17871        -105.85165\n",
       "17 2018-03-01   983.21344         139.03473\n",
       "18 2018-04-01   996.64775          13.43431\n",
       "19 2018-05-01   996.51768          -0.13007\n",
       "20 2018-06-01   865.12431        -131.39337\n",
       "21 2018-07-01   895.50722          30.38291\n",
       "22 2018-08-01   854.68633         -40.82089"
      ]
     },
     "execution_count": 12,
     "metadata": {},
     "output_type": "execute_result"
    }
   ],
   "source": [
    "#We verify that the changes have been applied\n",
    "stationary_df"
   ]
  },
  {
   "cell_type": "code",
   "execution_count": 13,
   "metadata": {},
   "outputs": [
    {
     "name": "stderr",
     "output_type": "stream",
     "text": [
      "c:\\Users\\Lina_\\AppData\\Local\\Programs\\Python\\Python310\\lib\\site-packages\\seaborn\\_decorators.py:36: FutureWarning: Pass the following variables as keyword args: x, y. From version 0.12, the only valid positional argument will be `data`, and passing other arguments without an explicit keyword will result in an error or misinterpretation.\n",
      "  warnings.warn(\n",
      "c:\\Users\\Lina_\\AppData\\Local\\Programs\\Python\\Python310\\lib\\site-packages\\seaborn\\_decorators.py:36: FutureWarning: Pass the following variables as keyword args: x, y. From version 0.12, the only valid positional argument will be `data`, and passing other arguments without an explicit keyword will result in an error or misinterpretation.\n",
      "  warnings.warn(\n"
     ]
    },
    {
     "data": {
      "image/png": "[encoded data removed]",
      "text/plain": [
       "<Figure size 1080x360 with 1 Axes>"
      ]
     },
     "metadata": {
      "needs_background": "light"
     },
     "output_type": "display_data"
    }
   ],
   "source": [
    "time_plot(stationary_df, 'fecha', 'diferenciaVentas', 'Monthly Sales After Diff Transformation')"
   ]
  },
  {
   "cell_type": "code",
   "execution_count": 14,
   "metadata": {},
   "outputs": [
    {
     "name": "stderr",
     "output_type": "stream",
     "text": [
      "c:\\Users\\Lina_\\AppData\\Local\\Programs\\Python\\Python310\\lib\\site-packages\\statsmodels\\graphics\\tsaplots.py:348: FutureWarning: The default method 'yw' can produce PACF values outside of the [-1,1] interval. After 0.13, the default will change tounadjusted Yule-Walker ('ywm'). You can use this method now by setting method='ywm'.\n",
      "  warnings.warn(\n"
     ]
    },
    {
     "data": {
      "image/png": "[encoded data removed]",
      "text/plain": [
       "<Figure size 864x360 with 3 Axes>"
      ]
     },
     "metadata": {
      "needs_background": "light"
     },
     "output_type": "display_data"
    }
   ],
   "source": [
    "# Observing lags\n",
    "def plots(data, lags=None):\n",
    "    \n",
    "    # Convert dataframe to datetime index\n",
    "    dt_data = data.set_index('fecha').drop('ventas', axis=1)\n",
    "    dt_data.dropna(axis=0)\n",
    "    \n",
    "    layout = (1, 3)\n",
    "    raw  = plt.subplot2grid(layout, (0, 0))\n",
    "    acf  = plt.subplot2grid(layout, (0, 1))\n",
    "    pacf = plt.subplot2grid(layout, (0, 2))\n",
    "    \n",
    "    dt_data.plot(ax=raw, figsize=(12, 5), color='mediumblue')\n",
    "    smt.graphics.plot_acf(dt_data, lags=lags, ax=acf, color='mediumblue')\n",
    "    smt.graphics.plot_pacf(dt_data, lags=lags, ax=pacf, color='mediumblue')\n",
    "    sns.despine()\n",
    "    plt.tight_layout()\n",
    "\n",
    "plots(stationary_df, lags=9)"
   ]
  },
  {
   "attachments": {},
   "cell_type": "markdown",
   "metadata": {},
   "source": [
    "Preparing Dataset Modeling"
   ]
  },
  {
   "cell_type": "code",
   "execution_count": 15,
   "metadata": {},
   "outputs": [],
   "source": [
    "#We create a datafrae that will store the retrospective period of the model which is 4 months\n",
    "#create dataframe for transformation from time series to supervised\n",
    "def generate_supervised(data):\n",
    "\n",
    "    supervised_df = data.copy()\n",
    "    #create column for each lag\n",
    "    for i in range(1, 5):\n",
    "        col_name = 'lag_' + str(i)\n",
    "        supervised_df[col_name] = supervised_df['diferenciaVentas'].shift(i)\n",
    "\n",
    "    #drop null values\n",
    "    supervised_df = supervised_df.dropna().reset_index(drop=True)\n",
    "\n",
    "    return supervised_df\n",
    "\n",
    "modelo = generate_supervised(stationary_df)"
   ]
  },
  {
   "cell_type": "code",
   "execution_count": 16,
   "metadata": {},
   "outputs": [
    {
     "data": {
      "text/html": [
       "<div>\n",
       "<style scoped>\n",
       "    .dataframe tbody tr th:only-of-type {\n",
       "        vertical-align: middle;\n",
       "    }\n",
       "\n",
       "    .dataframe tbody tr th {\n",
       "        vertical-align: top;\n",
       "    }\n",
       "\n",
       "    .dataframe thead th {\n",
       "        text-align: right;\n",
       "    }\n",
       "</style>\n",
       "<table border=\"1\" class=\"dataframe\">\n",
       "  <thead>\n",
       "    <tr style=\"text-align: right;\">\n",
       "      <th></th>\n",
       "      <th>fecha</th>\n",
       "      <th>ventas</th>\n",
       "      <th>diferenciaVentas</th>\n",
       "      <th>lag_1</th>\n",
       "      <th>lag_2</th>\n",
       "      <th>lag_3</th>\n",
       "      <th>lag_4</th>\n",
       "    </tr>\n",
       "  </thead>\n",
       "  <tbody>\n",
       "    <tr>\n",
       "      <th>0</th>\n",
       "      <td>2017-04-01</td>\n",
       "      <td>359.92723</td>\n",
       "      <td>-14.41707</td>\n",
       "      <td>127.04128</td>\n",
       "      <td>126.99015</td>\n",
       "      <td>70.80521</td>\n",
       "      <td>49.24030</td>\n",
       "    </tr>\n",
       "    <tr>\n",
       "      <th>1</th>\n",
       "      <td>2017-05-01</td>\n",
       "      <td>506.07114</td>\n",
       "      <td>146.14391</td>\n",
       "      <td>-14.41707</td>\n",
       "      <td>127.04128</td>\n",
       "      <td>126.99015</td>\n",
       "      <td>70.80521</td>\n",
       "    </tr>\n",
       "    <tr>\n",
       "      <th>2</th>\n",
       "      <td>2017-06-01</td>\n",
       "      <td>433.03860</td>\n",
       "      <td>-73.03254</td>\n",
       "      <td>146.14391</td>\n",
       "      <td>-14.41707</td>\n",
       "      <td>127.04128</td>\n",
       "      <td>126.99015</td>\n",
       "    </tr>\n",
       "    <tr>\n",
       "      <th>3</th>\n",
       "      <td>2017-07-01</td>\n",
       "      <td>498.03148</td>\n",
       "      <td>64.99288</td>\n",
       "      <td>-73.03254</td>\n",
       "      <td>146.14391</td>\n",
       "      <td>-14.41707</td>\n",
       "      <td>127.04128</td>\n",
       "    </tr>\n",
       "    <tr>\n",
       "      <th>4</th>\n",
       "      <td>2017-08-01</td>\n",
       "      <td>573.97168</td>\n",
       "      <td>75.94020</td>\n",
       "      <td>64.99288</td>\n",
       "      <td>-73.03254</td>\n",
       "      <td>146.14391</td>\n",
       "      <td>-14.41707</td>\n",
       "    </tr>\n",
       "    <tr>\n",
       "      <th>5</th>\n",
       "      <td>2017-09-01</td>\n",
       "      <td>624.40169</td>\n",
       "      <td>50.43001</td>\n",
       "      <td>75.94020</td>\n",
       "      <td>64.99288</td>\n",
       "      <td>-73.03254</td>\n",
       "      <td>146.14391</td>\n",
       "    </tr>\n",
       "    <tr>\n",
       "      <th>6</th>\n",
       "      <td>2017-10-01</td>\n",
       "      <td>664.21943</td>\n",
       "      <td>39.81774</td>\n",
       "      <td>50.43001</td>\n",
       "      <td>75.94020</td>\n",
       "      <td>64.99288</td>\n",
       "      <td>-73.03254</td>\n",
       "    </tr>\n",
       "    <tr>\n",
       "      <th>7</th>\n",
       "      <td>2017-11-01</td>\n",
       "      <td>1010.27137</td>\n",
       "      <td>346.05194</td>\n",
       "      <td>39.81774</td>\n",
       "      <td>50.43001</td>\n",
       "      <td>75.94020</td>\n",
       "      <td>64.99288</td>\n",
       "    </tr>\n",
       "    <tr>\n",
       "      <th>8</th>\n",
       "      <td>2017-12-01</td>\n",
       "      <td>743.91417</td>\n",
       "      <td>-266.35720</td>\n",
       "      <td>346.05194</td>\n",
       "      <td>39.81774</td>\n",
       "      <td>50.43001</td>\n",
       "      <td>75.94020</td>\n",
       "    </tr>\n",
       "    <tr>\n",
       "      <th>9</th>\n",
       "      <td>2018-01-01</td>\n",
       "      <td>950.03036</td>\n",
       "      <td>206.11619</td>\n",
       "      <td>-266.35720</td>\n",
       "      <td>346.05194</td>\n",
       "      <td>39.81774</td>\n",
       "      <td>50.43001</td>\n",
       "    </tr>\n",
       "    <tr>\n",
       "      <th>10</th>\n",
       "      <td>2018-02-01</td>\n",
       "      <td>844.17871</td>\n",
       "      <td>-105.85165</td>\n",
       "      <td>206.11619</td>\n",
       "      <td>-266.35720</td>\n",
       "      <td>346.05194</td>\n",
       "      <td>39.81774</td>\n",
       "    </tr>\n",
       "    <tr>\n",
       "      <th>11</th>\n",
       "      <td>2018-03-01</td>\n",
       "      <td>983.21344</td>\n",
       "      <td>139.03473</td>\n",
       "      <td>-105.85165</td>\n",
       "      <td>206.11619</td>\n",
       "      <td>-266.35720</td>\n",
       "      <td>346.05194</td>\n",
       "    </tr>\n",
       "    <tr>\n",
       "      <th>12</th>\n",
       "      <td>2018-04-01</td>\n",
       "      <td>996.64775</td>\n",
       "      <td>13.43431</td>\n",
       "      <td>139.03473</td>\n",
       "      <td>-105.85165</td>\n",
       "      <td>206.11619</td>\n",
       "      <td>-266.35720</td>\n",
       "    </tr>\n",
       "    <tr>\n",
       "      <th>13</th>\n",
       "      <td>2018-05-01</td>\n",
       "      <td>996.51768</td>\n",
       "      <td>-0.13007</td>\n",
       "      <td>13.43431</td>\n",
       "      <td>139.03473</td>\n",
       "      <td>-105.85165</td>\n",
       "      <td>206.11619</td>\n",
       "    </tr>\n",
       "    <tr>\n",
       "      <th>14</th>\n",
       "      <td>2018-06-01</td>\n",
       "      <td>865.12431</td>\n",
       "      <td>-131.39337</td>\n",
       "      <td>-0.13007</td>\n",
       "      <td>13.43431</td>\n",
       "      <td>139.03473</td>\n",
       "      <td>-105.85165</td>\n",
       "    </tr>\n",
       "    <tr>\n",
       "      <th>15</th>\n",
       "      <td>2018-07-01</td>\n",
       "      <td>895.50722</td>\n",
       "      <td>30.38291</td>\n",
       "      <td>-131.39337</td>\n",
       "      <td>-0.13007</td>\n",
       "      <td>13.43431</td>\n",
       "      <td>139.03473</td>\n",
       "    </tr>\n",
       "    <tr>\n",
       "      <th>16</th>\n",
       "      <td>2018-08-01</td>\n",
       "      <td>854.68633</td>\n",
       "      <td>-40.82089</td>\n",
       "      <td>30.38291</td>\n",
       "      <td>-131.39337</td>\n",
       "      <td>-0.13007</td>\n",
       "      <td>13.43431</td>\n",
       "    </tr>\n",
       "  </tbody>\n",
       "</table>\n",
       "</div>"
      ],
      "text/plain": [
       "        fecha      ventas  diferenciaVentas      lag_1      lag_2      lag_3  \\\n",
       "0  2017-04-01   359.92723         -14.41707  127.04128  126.99015   70.80521   \n",
       "1  2017-05-01   506.07114         146.14391  -14.41707  127.04128  126.99015   \n",
       "2  2017-06-01   433.03860         -73.03254  146.14391  -14.41707  127.04128   \n",
       "3  2017-07-01   498.03148          64.99288  -73.03254  146.14391  -14.41707   \n",
       "4  2017-08-01   573.97168          75.94020   64.99288  -73.03254  146.14391   \n",
       "5  2017-09-01   624.40169          50.43001   75.94020   64.99288  -73.03254   \n",
       "6  2017-10-01   664.21943          39.81774   50.43001   75.94020   64.99288   \n",
       "7  2017-11-01  1010.27137         346.05194   39.81774   50.43001   75.94020   \n",
       "8  2017-12-01   743.91417        -266.35720  346.05194   39.81774   50.43001   \n",
       "9  2018-01-01   950.03036         206.11619 -266.35720  346.05194   39.81774   \n",
       "10 2018-02-01   844.17871        -105.85165  206.11619 -266.35720  346.05194   \n",
       "11 2018-03-01   983.21344         139.03473 -105.85165  206.11619 -266.35720   \n",
       "12 2018-04-01   996.64775          13.43431  139.03473 -105.85165  206.11619   \n",
       "13 2018-05-01   996.51768          -0.13007   13.43431  139.03473 -105.85165   \n",
       "14 2018-06-01   865.12431        -131.39337   -0.13007   13.43431  139.03473   \n",
       "15 2018-07-01   895.50722          30.38291 -131.39337   -0.13007   13.43431   \n",
       "16 2018-08-01   854.68633         -40.82089   30.38291 -131.39337   -0.13007   \n",
       "\n",
       "        lag_4  \n",
       "0    49.24030  \n",
       "1    70.80521  \n",
       "2   126.99015  \n",
       "3   127.04128  \n",
       "4   -14.41707  \n",
       "5   146.14391  \n",
       "6   -73.03254  \n",
       "7    64.99288  \n",
       "8    75.94020  \n",
       "9    50.43001  \n",
       "10   39.81774  \n",
       "11  346.05194  \n",
       "12 -266.35720  \n",
       "13  206.11619  \n",
       "14 -105.85165  \n",
       "15  139.03473  \n",
       "16   13.43431  "
      ]
     },
     "execution_count": 16,
     "metadata": {},
     "output_type": "execute_result"
    }
   ],
   "source": [
    "modelo"
   ]
  },
  {
   "attachments": {},
   "cell_type": "markdown",
   "metadata": {},
   "source": [
    "Model Creation"
   ]
  },
  {
   "attachments": {},
   "cell_type": "markdown",
   "metadata": {},
   "source": [
    "    Train test split"
   ]
  },
  {
   "cell_type": "code",
   "execution_count": 17,
   "metadata": {},
   "outputs": [],
   "source": [
    "def tts(data):\n",
    "    data = data.drop(['ventas','fecha'],axis=1)\n",
    "    train, test = data[0:-7].values, data[-7:].values\n",
    "    \n",
    "    return train, test\n",
    "\n",
    "train, test = tts(modelo)"
   ]
  },
  {
   "cell_type": "code",
   "execution_count": 18,
   "metadata": {},
   "outputs": [
    {
     "name": "stdout",
     "output_type": "stream",
     "text": [
      "(10, 5)\n",
      "(7, 5)\n"
     ]
    }
   ],
   "source": [
    "print(train.shape)\n",
    "print(test.shape)"
   ]
  },
  {
   "cell_type": "code",
   "execution_count": 19,
   "metadata": {},
   "outputs": [],
   "source": [
    "def scale_data(train_set, test_set):\n",
    "    #apply Min Max Scaler\n",
    "    scaler = MinMaxScaler(feature_range=(-1, 1))\n",
    "    scaler = scaler.fit(train_set)\n",
    "    \n",
    "    # reshape training set\n",
    "    train_set = train_set.reshape(train_set.shape[0], train_set.shape[1])\n",
    "    train_set_scaled = scaler.transform(train_set)\n",
    "    \n",
    "    # reshape test set\n",
    "    test_set = test_set.reshape(test_set.shape[0], test_set.shape[1])\n",
    "    test_set_scaled = scaler.transform(test_set)\n",
    "    \n",
    "    X_train, y_train = train_set_scaled[:, 1:], train_set_scaled[:, 0:1].ravel()\n",
    "    X_test, y_test = test_set_scaled[:, 1:], test_set_scaled[:, 0:1].ravel()\n",
    "    \n",
    "    return X_train, y_train, X_test, y_test, scaler\n",
    "\n",
    "X_train, y_train, X_test, y_test, scaler_object = scale_data(train, test)"
   ]
  },
  {
   "attachments": {},
   "cell_type": "markdown",
   "metadata": {},
   "source": [
    "    Modeling Functions"
   ]
  },
  {
   "cell_type": "code",
   "execution_count": 20,
   "metadata": {},
   "outputs": [],
   "source": [
    "def undo_scaling(y_pred, x_test, scaler_obj, lstm=False):  \n",
    "    #reshape y_pred\n",
    "    y_pred = y_pred.reshape(y_pred.shape[0], 1, 1)\n",
    "    \n",
    "    if not lstm:\n",
    "        x_test = x_test.reshape(x_test.shape[0], 1, x_test.shape[1])\n",
    "    \n",
    "    #rebuild test set for inverse transform\n",
    "    pred_test_set = []\n",
    "    for index in range(0,len(y_pred)):\n",
    "        pred_test_set.append(np.concatenate([y_pred[index],x_test[index]],axis=1))\n",
    "        \n",
    "    #reshape pred_test_set\n",
    "    pred_test_set = np.array(pred_test_set)\n",
    "    pred_test_set = pred_test_set.reshape(pred_test_set.shape[0], pred_test_set.shape[2])\n",
    "    \n",
    "    #inverse transform\n",
    "    pred_test_set_inverted = scaler_obj.inverse_transform(pred_test_set)\n",
    "    \n",
    "    return pred_test_set_inverted"
   ]
  },
  {
   "cell_type": "code",
   "execution_count": 21,
   "metadata": {},
   "outputs": [],
   "source": [
    "def load_original_df():\n",
    "    #load in original dataframe without scaling applied\n",
    "    original_df = pd.read_csv(r'C:\\Users\\Lina_\\OneDrive\\Escritorio\\ProyectoFinal\\Semana 3\\Datasets\\VentasMensuales2017.csv', sep=';')\n",
    "    original_df.fecha = original_df.fecha.apply(lambda x: str(x)[:-3])\n",
    "    original_df = original_df.groupby('fecha')['ventas'].sum().reset_index()\n",
    "    original_df.fecha = pd.to_datetime(original_df.fecha)\n",
    "    original_df.ventas /= 1000\n",
    "    # We eliminate sales data that is only from one day, since it generates noise in the prediction\n",
    "    original_df.drop(original_df[(original_df['fecha'] == '2018-09-01')].index, inplace=True)\n",
    "    original_df.drop(original_df[(original_df['fecha'] == '2016-12-01')].index, inplace=True)\n",
    "    return original_df"
   ]
  },
  {
   "cell_type": "code",
   "execution_count": 22,
   "metadata": {},
   "outputs": [],
   "source": [
    "def predict_df(unscaled_predictions, original_df):\n",
    "    #create dataframe that shows the predicted sales\n",
    "    result_list = []\n",
    "    sales_date = list(original_df[-10:].fecha)\n",
    "    act_sales = list(original_df[-10:].ventas)\n",
    "    \n",
    "    for index in range(0,len(unscaled_predictions)):\n",
    "        result_dict = {}\n",
    "        result_dict['pred_value'] = int(unscaled_predictions[index][0] + act_sales[index])\n",
    "        result_dict['fecha'] = sales_date[index+1]\n",
    "        result_list.append(result_dict)\n",
    "        \n",
    "    df_result = pd.DataFrame(result_list)\n",
    "    \n",
    "    return df_result"
   ]
  },
  {
   "cell_type": "code",
   "execution_count": 23,
   "metadata": {},
   "outputs": [],
   "source": [
    "model_scores = {}\n",
    "\n",
    "def get_scores(unscaled_df, original_df, model_name):\n",
    "    rmse = np.sqrt(mean_squared_error(original_df.ventas[-7:], unscaled_df.pred_value[-7:]))\n",
    "    mae = mean_absolute_error(original_df.ventas[-7:], unscaled_df.pred_value[-7:])\n",
    "    r2 = r2_score(original_df.ventas[-7:], unscaled_df.pred_value[-7:])\n",
    "    model_scores[model_name] = [rmse, mae, r2]\n",
    "\n",
    "    print(f\"RMSE: {rmse}\")\n",
    "    print(f\"MAE: {mae}\")\n",
    "    print(f\"R2 Score: {r2}\")"
   ]
  },
  {
   "cell_type": "code",
   "execution_count": 24,
   "metadata": {},
   "outputs": [],
   "source": [
    "def plot_results(results, original_df, model_name):\n",
    "\n",
    "       fig, ax = plt.subplots(figsize=(15,5))\n",
    "       sns.lineplot(original_df.fecha, original_df.ventas, data=original_df, ax=ax, \n",
    "                     label='Original', color='mediumblue')\n",
    "       sns.lineplot(results.fecha, results.pred_value, data=results, ax=ax, \n",
    "                     label='Predicted', color='Red')\n",
    "\n",
    "       print('-----Results-----')\n",
    "       print(results)\n",
    "\n",
    "       ax.set(xlabel = \"fecha\",\n",
    "              ylabel = \"ventas\",\n",
    "              title = f\"{model_name} Sales Forecasting Prediction\")\n",
    "\n",
    "       ax.legend()\n",
    "\n",
    "       sns.despine()"
   ]
  },
  {
   "cell_type": "code",
   "execution_count": 25,
   "metadata": {},
   "outputs": [],
   "source": [
    "def run_model(train_data, test_data, model, model_name):\n",
    "    \n",
    "    X_train, y_train, X_test, y_test, scaler_object = scale_data(train_data, test_data)\n",
    "    \n",
    "    mod = model\n",
    "    mod.fit(X_train, y_train)\n",
    "    predictions = mod.predict(X_test)\n",
    "    \n",
    "    # Undo scaling to compare predictions against original data\n",
    "    original_df = load_original_df()\n",
    "    unscaled = undo_scaling(predictions, X_test, scaler_object)\n",
    "    unscaled_df = predict_df(unscaled, original_df)\n",
    "      \n",
    "    get_scores(unscaled_df, original_df, model_name)\n",
    "    \n",
    "    plot_results(unscaled_df, original_df, model_name)"
   ]
  },
  {
   "attachments": {},
   "cell_type": "markdown",
   "metadata": {},
   "source": [
    "    Predict to model Linear Regression"
   ]
  },
  {
   "cell_type": "code",
   "execution_count": 27,
   "metadata": {},
   "outputs": [
    {
     "name": "stdout",
     "output_type": "stream",
     "text": [
      "RMSE: 84.5569100630031\n",
      "MAE: 65.85707428571428\n",
      "R2 Score: 0.7676664124707893\n",
      "-----Results-----\n",
      "   pred_value      fecha\n",
      "0         489 2017-04-01\n",
      "1         485 2017-05-01\n",
      "2         601 2017-06-01\n",
      "3         485 2017-07-01\n",
      "4         662 2017-08-01\n",
      "5         870 2017-09-01\n",
      "6         827 2017-10-01\n"
     ]
    },
    {
     "name": "stderr",
     "output_type": "stream",
     "text": [
      "c:\\Users\\Lina_\\AppData\\Local\\Programs\\Python\\Python310\\lib\\site-packages\\seaborn\\_decorators.py:36: FutureWarning: Pass the following variables as keyword args: x, y. From version 0.12, the only valid positional argument will be `data`, and passing other arguments without an explicit keyword will result in an error or misinterpretation.\n",
      "  warnings.warn(\n",
      "c:\\Users\\Lina_\\AppData\\Local\\Programs\\Python\\Python310\\lib\\site-packages\\seaborn\\_decorators.py:36: FutureWarning: Pass the following variables as keyword args: x, y. From version 0.12, the only valid positional argument will be `data`, and passing other arguments without an explicit keyword will result in an error or misinterpretation.\n",
      "  warnings.warn(\n"
     ]
    },
    {
     "data": {
      "image/png": "[encoded data removed]",
      "text/plain": [
       "<Figure size 1080x360 with 1 Axes>"
      ]
     },
     "metadata": {
      "needs_background": "light"
     },
     "output_type": "display_data"
    }
   ],
   "source": [
    "regression = run_model(train, test, LinearRegression(), 'LinearRegression')"
   ]
  },
  {
   "attachments": {},
   "cell_type": "markdown",
   "metadata": {},
   "source": [
    "Deploy with streamlit"
   ]
  },
  {
   "cell_type": "code",
   "execution_count": 28,
   "metadata": {},
   "outputs": [
    {
     "data": {
      "text/plain": [
       "['regressionModel']"
      ]
     },
     "execution_count": 28,
     "metadata": {},
     "output_type": "execute_result"
    }
   ],
   "source": [
    "import joblib\n",
    "joblib.dump(regression, 'regressionModel')"
   ]
  }
 ],
 "metadata": {
  "kernelspec": {
   "display_name": "Python 3",
   "language": "python",
   "name": "python3"
  },
  "language_info": {
   "codemirror_mode": {
    "name": "ipython",
    "version": 3
   },
   "file_extension": ".py",
   "mimetype": "text/x-python",
   "name": "python",
   "nbconvert_exporter": "python",
   "pygments_lexer": "ipython3",
   "version": "3.10.4"
  },
  "orig_nbformat": 4,
  "vscode": {
   "interpreter": {
    "hash": "29329669789227c7db5db3129d8babe5839e07e2db888185c4e257cef6de5c65"
   }
  }
 },
 "nbformat": 4,
 "nbformat_minor": 2
}
